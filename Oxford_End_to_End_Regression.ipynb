{
 "cells": [
  {
   "cell_type": "markdown",
   "metadata": {
    "id": "view-in-github"
   },
   "source": [
    "<a href=\"https://colab.research.google.com/github/DanRHowarth/Artificial-Intelligence-Cloud-and-Edge-Implementations/blob/master/Oxford_End_to_End_Regression.ipynb\" target=\"_parent\"><img src=\"https://colab.research.google.com/assets/colab-badge.svg\" alt=\"Open In Colab\"/></a>"
   ]
  },
  {
   "cell_type": "markdown",
   "metadata": {
    "id": "_WSqj0N9Hg96"
   },
   "source": [
    "# Artificial-Intelligence-Cloud-and-Edge-Implementations: \n",
    "# End-to-End Machine Learning Problem: Regression\n",
    "\n",
    "* The aim of this notebook is to introduce you to the core concepts in developing and building a machine learning model, including:\n",
    "\n",
    "  * An overview of Machine Learning; \n",
    "  * An overview of the the Machine Learning workflow; \n",
    "  * An introduction, through explanations and code, of the key machine learning libraries in `python`; and\n",
    "  * Familiariry with the `collaboratory` environment \n",
    "\n",
    "  "
   ]
  },
  {
   "cell_type": "markdown",
   "metadata": {
    "id": "PUdUIdMKNNNO"
   },
   "source": [
    "## CONCEPT 1: What is Machine Learning?"
   ]
  },
  {
   "cell_type": "markdown",
   "metadata": {
    "id": "vaPrvK2MYO8C"
   },
   "source": [
    "### 1.1 Aims:\n",
    "  * To introduce the concept of machine learning \n",
    "  * To introduce the different types of machine learning\n",
    "  * To suggest further reading in order to explore this concept in more detail"
   ]
  },
  {
   "cell_type": "markdown",
   "metadata": {
    "id": "P8BmebTwGIhS"
   },
   "source": [
    "### Explanation: \n",
    "\n",
    "**Machine Learning**\n",
    "* From ['Python Data Science Handbook'](https://jakevdp.github.io/PythonDataScienceHandbook/) by Jake VanderPlass:\n",
    "\n",
    "* *Machine learning is often categorized as a subfield of artificial intelligence, but I find that categorization can often be misleading at first brush. The study of machine learning certainly arose from research in this context, but in the data science application of machine learning methods, it’s more helpful to think of **machine learning as a means of building models of data**.*\n",
    "\n",
    "\n",
    "* *Fundamentally, **machine learning involves building mathematical models to help understand data**. “Learning” enters the fray when we give these models tunable parameters that can be adapted to observed data; in this way the program can be considered to be “learning” from the data. Once these models have been fit to previously seen data, they can be used to predict and understand aspects of newly observed data.*\n",
    "\n",
    "\n",
    "\n",
    "\n",
    "**Different types of Machine Learning**\n",
    "\n",
    "* *Supervised learning* is about modeling the relationship between features of data and a label associated with the data. Once this model is determined, it can be used to apply labels to new, unknown data. \n",
    "* Supervised learning can either be a *classification* task (where our labels are in discrete categories) or *regression* task (where our labels are continuous quantities). \n",
    "* *Unsupervised learning* models the features of a dataset without reference to any label. These models include tasks such as clustering and dimensionality reduction. We can use unsupervised learning technqiues to preprocess data prior to running supervised learning models. \n",
    "* *Semi-supervised learning* can also be used when we only have incomplete labels for our data.\n",
    "* *Deep learning* can be thought of as a way of implementimg  *supervised*, *unsupervised* and *semi-supervised* learning using models that have more layers (we will come to Deep Learning later in the module)"
   ]
  },
  {
   "cell_type": "markdown",
   "metadata": {
    "id": "WNb73s9cGM19"
   },
   "source": [
    "### 1.2 Next Steps:\n",
    "\n",
    "* For a good introduction, we recommend ['Python Data Science Handbook'](https://jakevdp.github.io/PythonDataScienceHandbook/), which available free at the link. \n",
    "\n",
    "* For a more detailed overview, we suggest Chapter 2 of *Introduction to Statistical Learning* (also free [here](http://www-bcf.usc.edu/~gareth/ISL/))."
   ]
  },
  {
   "cell_type": "markdown",
   "metadata": {
    "id": "ZpnIe4L5JYK1"
   },
   "source": [
    "## CONCEPT 2: Machine Learning Workflow\n",
    " "
   ]
  },
  {
   "cell_type": "markdown",
   "metadata": {
    "id": "12Zw_8VZYae9"
   },
   "source": [
    "![alt text](https://github.com/DanRHowarth/Artificial-Intelligence-Cloud-and-Edge-Implementations/blob/master/Screenshot%202019-11-11%20at%2022.01.44.png?raw=true)\n"
   ]
  },
  {
   "cell_type": "markdown",
   "metadata": {
    "id": "TFhBlcuzQUk5"
   },
   "source": [
    "### 2.4 Next Steps:\n",
    "* There are various approaches to machine learning workflow, though all will include the areas covered above. \n",
    "* Good discussions of machine learning workflow are available. See this [blog](https://www.kdnuggets.com/2018/05/general-approaches-machine-learning-process.html) for an example. "
   ]
  },
  {
   "cell_type": "markdown",
   "metadata": {
    "id": "XV41up0tRwlb"
   },
   "source": [
    "## CONCEPT 3: Key `python` libraries \n",
    "**Aims:**\n",
    "* To introduce you to the key machine learning libraries\n",
    "* To import all the libraries we will need "
   ]
  },
  {
   "cell_type": "markdown",
   "metadata": {
    "id": "6AztvHnFSo3m"
   },
   "source": [
    "**Explanation:**\n",
    "* We will use the following `python` libraries, which you will encounter frequently for data analysis and machine learning tasks: \n",
    " *  `numpy`, which provides vectorised arrays, and maths, algebra functionality;\n",
    " * `pandas`, which provides data structures and data analysis tools;\n",
    " * `matplotlib`, which provides highly customisable plotting functionality (and we also use `seaborn`, built on top of `matplotlib`, which is less customisable but can generate charts with less code); and, \n",
    " * `scikit-learn`, which provides models and tools for most machine learning algorithms"
   ]
  },
  {
   "cell_type": "code",
   "execution_count": 1,
   "metadata": {
    "executionInfo": {
     "elapsed": 2242,
     "status": "ok",
     "timestamp": 1607859808336,
     "user": {
      "displayName": "A J",
      "photoUrl": "https://lh3.googleusercontent.com/a-/AOh14GjZDwFqnFt3HwqF4Wu3Au0RSvls62YjJWudcDUj=s64",
      "userId": "15417262701029927930"
     },
     "user_tz": 0
    },
    "id": "wx1i0pKVRwlc"
   },
   "outputs": [],
   "source": [
    "# these are import statements \n",
    "# by convention, the libraries are imported as a shorthand that we will refer to \n",
    "import pandas as pd\n",
    "import numpy as np\n",
    "import matplotlib.pyplot as plt\n",
    "import seaborn as sns\n",
    "\n",
    "# rather than importing the whole sklearn library, we will import certain modules \n",
    "from sklearn.linear_model import LinearRegression\n",
    "from sklearn.ensemble import RandomForestRegressor\n",
    "from sklearn.datasets import load_boston\n",
    "from sklearn import model_selection\n",
    "from sklearn.preprocessing import StandardScaler\n",
    "from sklearn import metrics"
   ]
  },
  {
   "cell_type": "markdown",
   "metadata": {
    "id": "_5Io9Kp_Ti2k"
   },
   "source": [
    "**Next Steps:**\n",
    "* We have developed more focussed notebooks for each of the main libraries, and they are available as part of the course."
   ]
  },
  {
   "cell_type": "markdown",
   "metadata": {
    "id": "xZkfBuy7UiE4"
   },
   "source": [
    "## SECTION 1: Exploratory Data Analysis\n",
    "\n"
   ]
  },
  {
   "cell_type": "markdown",
   "metadata": {
    "id": "i-eJQSklkYjj"
   },
   "source": [
    "### 1.1 Aims:\n",
    "* To take you through the first part of a machine learning problem following the steps introduced earlier \n",
    "* To explain at a high level the different steps, and the code used to implement them"
   ]
  },
  {
   "cell_type": "markdown",
   "metadata": {
    "id": "frpkYkXykP9v"
   },
   "source": [
    "### 1.2 Machine Learning Workflow - EDA"
   ]
  },
  {
   "cell_type": "markdown",
   "metadata": {
    "id": "NMuDW_D4k_3G"
   },
   "source": [
    "![alt text](https://github.com/DanRHowarth/Artificial-Intelligence-Cloud-and-Edge-Implementations/blob/master/Screenshot%202019-11-11%20at%2022.02.10.png?raw=true)"
   ]
  },
  {
   "cell_type": "markdown",
   "metadata": {
    "id": "plYKMy8UkgoX"
   },
   "source": [
    "#### 1. Define the Problem Statement\n",
    "* We will define the problem(s) that we are trying to solve given the data available to us\n",
    "* Note that steps 1 and 2 can be iterative, in that we may only know the problem we are trying to solve once we have analyzed the data. \n",
    "\n",
    "#### 2. Analyze and Preprocess Data\n",
    "* We will `analyze` our data to ensure we understand what information it contains, and whether some parts of the data are more relevant than others \n",
    "* We will also `preprocess` the data, so that any missing values are treated appropriately. We might `normalize` the data and turn `categorical` data into something that can be processed by our model."
   ]
  },
  {
   "cell_type": "markdown",
   "metadata": {
    "id": "B71_XzflRwlf"
   },
   "source": [
    "### Step 1: Define the Problem Statement\n",
    "\n",
    "* For our first end to end problem, we will use a dataset that is provided as part of the `sci-kit learn` library, the Boston Houses dataset. We can load this dataset easily and see a general description of what it contains."
   ]
  },
  {
   "cell_type": "code",
   "execution_count": 2,
   "metadata": {
    "colab": {
     "base_uri": "https://localhost:8080/"
    },
    "executionInfo": {
     "elapsed": 2224,
     "status": "ok",
     "timestamp": 1607859808339,
     "user": {
      "displayName": "A J",
      "photoUrl": "https://lh3.googleusercontent.com/a-/AOh14GjZDwFqnFt3HwqF4Wu3Au0RSvls62YjJWudcDUj=s64",
      "userId": "15417262701029927930"
     },
     "user_tz": 0
    },
    "id": "t90YYSMyRwlg",
    "outputId": "100d03db-8344-4fa6-ee56-017f9dfde8cd"
   },
   "outputs": [
    {
     "data": {
      "text/plain": [
       "dict_keys(['data', 'target', 'feature_names', 'DESCR', 'filename'])"
      ]
     },
     "execution_count": 2,
     "metadata": {
      "tags": []
     },
     "output_type": "execute_result"
    }
   ],
   "source": [
    "# we load the dataset and save it as the variable boston\n",
    "boston = load_boston()\n",
    "\n",
    "# if we want to know what sort of detail is provided with this dataset, we can call .keys()\n",
    "boston.keys()"
   ]
  },
  {
   "cell_type": "code",
   "execution_count": 3,
   "metadata": {
    "colab": {
     "base_uri": "https://localhost:8080/"
    },
    "executionInfo": {
     "elapsed": 2216,
     "status": "ok",
     "timestamp": 1607859808341,
     "user": {
      "displayName": "A J",
      "photoUrl": "https://lh3.googleusercontent.com/a-/AOh14GjZDwFqnFt3HwqF4Wu3Au0RSvls62YjJWudcDUj=s64",
      "userId": "15417262701029927930"
     },
     "user_tz": 0
    },
    "id": "rh-KRuwjRwln",
    "outputId": "edbe5472-c60e-400a-ba0a-43b4e4ef2d89"
   },
   "outputs": [
    {
     "name": "stdout",
     "output_type": "stream",
     "text": [
      ".. _boston_dataset:\n",
      "\n",
      "Boston house prices dataset\n",
      "---------------------------\n",
      "\n",
      "**Data Set Characteristics:**  \n",
      "\n",
      "    :Number of Instances: 506 \n",
      "\n",
      "    :Number of Attributes: 13 numeric/categorical predictive. Median Value (attribute 14) is usually the target.\n",
      "\n",
      "    :Attribute Information (in order):\n",
      "        - CRIM     per capita crime rate by town\n",
      "        - ZN       proportion of residential land zoned for lots over 25,000 sq.ft.\n",
      "        - INDUS    proportion of non-retail business acres per town\n",
      "        - CHAS     Charles River dummy variable (= 1 if tract bounds river; 0 otherwise)\n",
      "        - NOX      nitric oxides concentration (parts per 10 million)\n",
      "        - RM       average number of rooms per dwelling\n",
      "        - AGE      proportion of owner-occupied units built prior to 1940\n",
      "        - DIS      weighted distances to five Boston employment centres\n",
      "        - RAD      index of accessibility to radial highways\n",
      "        - TAX      full-value property-tax rate per $10,000\n",
      "        - PTRATIO  pupil-teacher ratio by town\n",
      "        - B        1000(Bk - 0.63)^2 where Bk is the proportion of blacks by town\n",
      "        - LSTAT    % lower status of the population\n",
      "        - MEDV     Median value of owner-occupied homes in $1000's\n",
      "\n",
      "    :Missing Attribute Values: None\n",
      "\n",
      "    :Creator: Harrison, D. and Rubinfeld, D.L.\n",
      "\n",
      "This is a copy of UCI ML housing dataset.\n",
      "https://archive.ics.uci.edu/ml/machine-learning-databases/housing/\n",
      "\n",
      "\n",
      "This dataset was taken from the StatLib library which is maintained at Carnegie Mellon University.\n",
      "\n",
      "The Boston house-price data of Harrison, D. and Rubinfeld, D.L. 'Hedonic\n",
      "prices and the demand for clean air', J. Environ. Economics & Management,\n",
      "vol.5, 81-102, 1978.   Used in Belsley, Kuh & Welsch, 'Regression diagnostics\n",
      "...', Wiley, 1980.   N.B. Various transformations are used in the table on\n",
      "pages 244-261 of the latter.\n",
      "\n",
      "The Boston house-price data has been used in many machine learning papers that address regression\n",
      "problems.   \n",
      "     \n",
      ".. topic:: References\n",
      "\n",
      "   - Belsley, Kuh & Welsch, 'Regression diagnostics: Identifying Influential Data and Sources of Collinearity', Wiley, 1980. 244-261.\n",
      "   - Quinlan,R. (1993). Combining Instance-Based and Model-Based Learning. In Proceedings on the Tenth International Conference of Machine Learning, 236-243, University of Massachusetts, Amherst. Morgan Kaufmann.\n",
      "\n"
     ]
    }
   ],
   "source": [
    "# the info at the .DESCR key will tell us more \n",
    "print(boston.DESCR)"
   ]
  },
  {
   "cell_type": "markdown",
   "metadata": {
    "id": "ohv11mdyRwlu"
   },
   "source": [
    "* There is a lot of information to inform our problem statement. We have been given a `data` and `target` set of values and told that `MEDV` (median value) is usually used as the target variable. \n",
    "* We can therefore say that the problem statement is *to predict the median value of a home given a set number of features of that home*. \n",
    "* We have 13 other features. We will use those 13 features and accompanying target variable - the median value of the home - to train a model using seen or training data. We will then feed our trained model the 13 features from unseen or test data *without* passing in the target variable information. Our model will predict what it thinks is the median value and we will compare that prediction to the actual answer to assess how well our model performs. \n",
    "* We can also see that our data set contains 506 records. It has no missing values, which is unusual but makes our job of `preprocessing` easier.\n"
   ]
  },
  {
   "cell_type": "markdown",
   "metadata": {
    "id": "k2EPZi9kWErG"
   },
   "source": [
    "### Step 2: Analyse and Preprocess data"
   ]
  },
  {
   "cell_type": "markdown",
   "metadata": {
    "id": "aYwus1tKW0sZ"
   },
   "source": [
    "#### Analyze the Data\n",
    "* We will use `pandas` and `matplotlib` to do some basic `exploratory data analysis`\n",
    "* This will include getting a feel for the overall dataset so that we understand what sorts of values it contains\n",
    "* We will compute summary statistics and look at the distributions of each feature\n",
    "* We can start to determine what are the most important features, where there might be `outliers` and whether we need to `normalize` the data."
   ]
  },
  {
   "cell_type": "code",
   "execution_count": 4,
   "metadata": {
    "executionInfo": {
     "elapsed": 2210,
     "status": "ok",
     "timestamp": 1607859808343,
     "user": {
      "displayName": "A J",
      "photoUrl": "https://lh3.googleusercontent.com/a-/AOh14GjZDwFqnFt3HwqF4Wu3Au0RSvls62YjJWudcDUj=s64",
      "userId": "15417262701029927930"
     },
     "user_tz": 0
    },
    "id": "3oy4pgWhRwlv"
   },
   "outputs": [],
   "source": [
    "# we can use pandas to create a dataframe, which is basically a way of storing and operating on tabular data \n",
    "# here we pass in both the data and the column names as variables\n",
    "boston_X = pd.DataFrame(boston.data, columns = boston.feature_names)"
   ]
  },
  {
   "cell_type": "code",
   "execution_count": 5,
   "metadata": {
    "executionInfo": {
     "elapsed": 2205,
     "status": "ok",
     "timestamp": 1607859808345,
     "user": {
      "displayName": "A J",
      "photoUrl": "https://lh3.googleusercontent.com/a-/AOh14GjZDwFqnFt3HwqF4Wu3Au0RSvls62YjJWudcDUj=s64",
      "userId": "15417262701029927930"
     },
     "user_tz": 0
    },
    "id": "ObNxe9QZQ9Bk"
   },
   "outputs": [],
   "source": [
    "# we will also drop one of the features - B \n",
    "boston_X = boston_X.drop(columns='B')"
   ]
  },
  {
   "cell_type": "code",
   "execution_count": 6,
   "metadata": {
    "colab": {
     "base_uri": "https://localhost:8080/",
     "height": 224
    },
    "executionInfo": {
     "elapsed": 2199,
     "status": "ok",
     "timestamp": 1607859808347,
     "user": {
      "displayName": "A J",
      "photoUrl": "https://lh3.googleusercontent.com/a-/AOh14GjZDwFqnFt3HwqF4Wu3Au0RSvls62YjJWudcDUj=s64",
      "userId": "15417262701029927930"
     },
     "user_tz": 0
    },
    "id": "BiVTiekfRwlz",
    "outputId": "8aa7c72c-fb55-402c-c99f-956a033f931c"
   },
   "outputs": [
    {
     "data": {
      "text/html": [
       "<div>\n",
       "<style scoped>\n",
       "    .dataframe tbody tr th:only-of-type {\n",
       "        vertical-align: middle;\n",
       "    }\n",
       "\n",
       "    .dataframe tbody tr th {\n",
       "        vertical-align: top;\n",
       "    }\n",
       "\n",
       "    .dataframe thead th {\n",
       "        text-align: right;\n",
       "    }\n",
       "</style>\n",
       "<table border=\"1\" class=\"dataframe\">\n",
       "  <thead>\n",
       "    <tr style=\"text-align: right;\">\n",
       "      <th></th>\n",
       "      <th>CRIM</th>\n",
       "      <th>ZN</th>\n",
       "      <th>INDUS</th>\n",
       "      <th>CHAS</th>\n",
       "      <th>NOX</th>\n",
       "      <th>RM</th>\n",
       "      <th>AGE</th>\n",
       "      <th>DIS</th>\n",
       "      <th>RAD</th>\n",
       "      <th>TAX</th>\n",
       "      <th>PTRATIO</th>\n",
       "      <th>LSTAT</th>\n",
       "    </tr>\n",
       "  </thead>\n",
       "  <tbody>\n",
       "    <tr>\n",
       "      <th>0</th>\n",
       "      <td>0.00632</td>\n",
       "      <td>18.0</td>\n",
       "      <td>2.31</td>\n",
       "      <td>0.0</td>\n",
       "      <td>0.538</td>\n",
       "      <td>6.575</td>\n",
       "      <td>65.2</td>\n",
       "      <td>4.0900</td>\n",
       "      <td>1.0</td>\n",
       "      <td>296.0</td>\n",
       "      <td>15.3</td>\n",
       "      <td>4.98</td>\n",
       "    </tr>\n",
       "    <tr>\n",
       "      <th>1</th>\n",
       "      <td>0.02731</td>\n",
       "      <td>0.0</td>\n",
       "      <td>7.07</td>\n",
       "      <td>0.0</td>\n",
       "      <td>0.469</td>\n",
       "      <td>6.421</td>\n",
       "      <td>78.9</td>\n",
       "      <td>4.9671</td>\n",
       "      <td>2.0</td>\n",
       "      <td>242.0</td>\n",
       "      <td>17.8</td>\n",
       "      <td>9.14</td>\n",
       "    </tr>\n",
       "    <tr>\n",
       "      <th>2</th>\n",
       "      <td>0.02729</td>\n",
       "      <td>0.0</td>\n",
       "      <td>7.07</td>\n",
       "      <td>0.0</td>\n",
       "      <td>0.469</td>\n",
       "      <td>7.185</td>\n",
       "      <td>61.1</td>\n",
       "      <td>4.9671</td>\n",
       "      <td>2.0</td>\n",
       "      <td>242.0</td>\n",
       "      <td>17.8</td>\n",
       "      <td>4.03</td>\n",
       "    </tr>\n",
       "    <tr>\n",
       "      <th>3</th>\n",
       "      <td>0.03237</td>\n",
       "      <td>0.0</td>\n",
       "      <td>2.18</td>\n",
       "      <td>0.0</td>\n",
       "      <td>0.458</td>\n",
       "      <td>6.998</td>\n",
       "      <td>45.8</td>\n",
       "      <td>6.0622</td>\n",
       "      <td>3.0</td>\n",
       "      <td>222.0</td>\n",
       "      <td>18.7</td>\n",
       "      <td>2.94</td>\n",
       "    </tr>\n",
       "    <tr>\n",
       "      <th>4</th>\n",
       "      <td>0.06905</td>\n",
       "      <td>0.0</td>\n",
       "      <td>2.18</td>\n",
       "      <td>0.0</td>\n",
       "      <td>0.458</td>\n",
       "      <td>7.147</td>\n",
       "      <td>54.2</td>\n",
       "      <td>6.0622</td>\n",
       "      <td>3.0</td>\n",
       "      <td>222.0</td>\n",
       "      <td>18.7</td>\n",
       "      <td>5.33</td>\n",
       "    </tr>\n",
       "  </tbody>\n",
       "</table>\n",
       "</div>"
      ],
      "text/plain": [
       "      CRIM    ZN  INDUS  CHAS    NOX  ...     DIS  RAD    TAX  PTRATIO  LSTAT\n",
       "0  0.00632  18.0   2.31   0.0  0.538  ...  4.0900  1.0  296.0     15.3   4.98\n",
       "1  0.02731   0.0   7.07   0.0  0.469  ...  4.9671  2.0  242.0     17.8   9.14\n",
       "2  0.02729   0.0   7.07   0.0  0.469  ...  4.9671  2.0  242.0     17.8   4.03\n",
       "3  0.03237   0.0   2.18   0.0  0.458  ...  6.0622  3.0  222.0     18.7   2.94\n",
       "4  0.06905   0.0   2.18   0.0  0.458  ...  6.0622  3.0  222.0     18.7   5.33\n",
       "\n",
       "[5 rows x 12 columns]"
      ]
     },
     "execution_count": 6,
     "metadata": {
      "tags": []
     },
     "output_type": "execute_result"
    }
   ],
   "source": [
    "# we can then look at the top of the dataframe to see the sort of values it contains\n",
    "boston_X.head()"
   ]
  },
  {
   "cell_type": "code",
   "execution_count": 7,
   "metadata": {
    "colab": {
     "base_uri": "https://localhost:8080/"
    },
    "executionInfo": {
     "elapsed": 2189,
     "status": "ok",
     "timestamp": 1607859808348,
     "user": {
      "displayName": "A J",
      "photoUrl": "https://lh3.googleusercontent.com/a-/AOh14GjZDwFqnFt3HwqF4Wu3Au0RSvls62YjJWudcDUj=s64",
      "userId": "15417262701029927930"
     },
     "user_tz": 0
    },
    "id": "unZkKggTRwl9",
    "outputId": "58d419b3-7aea-444d-da3a-e2f164862cae"
   },
   "outputs": [
    {
     "name": "stdout",
     "output_type": "stream",
     "text": [
      "             CRIM          ZN       INDUS  ...         TAX     PTRATIO       LSTAT\n",
      "count  506.000000  506.000000  506.000000  ...  506.000000  506.000000  506.000000\n",
      "mean     3.613524   11.363636   11.136779  ...  408.237154   18.455534   12.653063\n",
      "std      8.601545   23.322453    6.860353  ...  168.537116    2.164946    7.141062\n",
      "min      0.006320    0.000000    0.460000  ...  187.000000   12.600000    1.730000\n",
      "25%      0.082045    0.000000    5.190000  ...  279.000000   17.400000    6.950000\n",
      "50%      0.256510    0.000000    9.690000  ...  330.000000   19.050000   11.360000\n",
      "75%      3.677083   12.500000   18.100000  ...  666.000000   20.200000   16.955000\n",
      "max     88.976200  100.000000   27.740000  ...  711.000000   22.000000   37.970000\n",
      "\n",
      "[8 rows x 12 columns]\n"
     ]
    }
   ],
   "source": [
    "# pandas has a lot of functionality to assist with exploratory data analysis\n",
    "# .describe() provide summary statistics on all numeric columns\n",
    "print(boston_X.describe())"
   ]
  },
  {
   "cell_type": "code",
   "execution_count": 8,
   "metadata": {
    "colab": {
     "base_uri": "https://localhost:8080/"
    },
    "executionInfo": {
     "elapsed": 2185,
     "status": "ok",
     "timestamp": 1607859808350,
     "user": {
      "displayName": "A J",
      "photoUrl": "https://lh3.googleusercontent.com/a-/AOh14GjZDwFqnFt3HwqF4Wu3Au0RSvls62YjJWudcDUj=s64",
      "userId": "15417262701029927930"
     },
     "user_tz": 0
    },
    "id": "bT6-tZXAYaHJ",
    "outputId": "132ae724-d9db-4a37-c87c-2b73c54c0021"
   },
   "outputs": [
    {
     "name": "stdout",
     "output_type": "stream",
     "text": [
      "(506, 12)\n"
     ]
    }
   ],
   "source": [
    "# we can also see the shape of the data\n",
    "print(boston_X.shape)"
   ]
  },
  {
   "cell_type": "markdown",
   "metadata": {
    "id": "pfqRGDxjRwmB"
   },
   "source": [
    "* For each feature, we can see the `count`, or number of data entries, the `mean` value, and the `standard deviation`, `min`, `max` and `quartile` values. \n",
    "* We can see that the range of values for each feature differs quite a lot, so we can start to think about whether to apply normalization to the data. \n",
    "* We can also see that the `CHAS` faeture is either a `(1,0)` value. If we look back at our description, we can see that this is an example of a `categorical` variable. These are values used to describe non-numeric data. In this case,  a `1` indicates the house borders near the river, and a `0` that it doesn't."
   ]
  },
  {
   "cell_type": "code",
   "execution_count": 9,
   "metadata": {
    "colab": {
     "base_uri": "https://localhost:8080/",
     "height": 1000
    },
    "executionInfo": {
     "elapsed": 5614,
     "status": "ok",
     "timestamp": 1607859811785,
     "user": {
      "displayName": "A J",
      "photoUrl": "https://lh3.googleusercontent.com/a-/AOh14GjZDwFqnFt3HwqF4Wu3Au0RSvls62YjJWudcDUj=s64",
      "userId": "15417262701029927930"
     },
     "user_tz": 0
    },
    "id": "AhYv8ivsRwmT",
    "outputId": "f2ca9a33-3806-43c6-f0fa-078efa6ffdb5"
   },
   "outputs": [
    {
     "data": {
      "image/png": "[encoded data removed]",
      "text/plain": [
       "<Figure size 864x432 with 2 Axes>"
      ]
     },
     "metadata": {
      "needs_background": "light",
      "tags": []
     },
     "output_type": "display_data"
    },
    {
     "data": {
      "image/png": "[encoded data removed]",
      "text/plain": [
       "<Figure size 864x432 with 2 Axes>"
      ]
     },
     "metadata": {
      "needs_background": "light",
      "tags": []
     },
     "output_type": "display_data"
    },
    {
     "data": {
      "image/png": "[encoded data removed]",
      "text/plain": [
       "<Figure size 864x432 with 2 Axes>"
      ]
     },
     "metadata": {
      "needs_background": "light",
      "tags": []
     },
     "output_type": "display_data"
    },
    {
     "data": {
      "image/png": "[encoded data removed]",
      "text/plain": [
       "<Figure size 864x432 with 2 Axes>"
      ]
     },
     "metadata": {
      "needs_background": "light",
      "tags": []
     },
     "output_type": "display_data"
    },
    {
     "data": {
      "image/png": "[encoded data removed]",
      "text/plain": [
       "<Figure size 864x432 with 2 Axes>"
      ]
     },
     "metadata": {
      "needs_background": "light",
      "tags": []
     },
     "output_type": "display_data"
    },
    {
     "data": {
      "image/png": "[encoded data removed]",
      "text/plain": [
       "<Figure size 864x432 with 2 Axes>"
      ]
     },
     "metadata": {
      "needs_background": "light",
      "tags": []
     },
     "output_type": "display_data"
    },
    {
     "data": {
      "image/png": "[encoded data removed]",
      "text/plain": [
       "<Figure size 864x432 with 2 Axes>"
      ]
     },
     "metadata": {
      "needs_background": "light",
      "tags": []
     },
     "output_type": "display_data"
    },
    {
     "data": {
      "image/png": "[encoded data removed]",
      "text/plain": [
       "<Figure size 864x432 with 2 Axes>"
      ]
     },
     "metadata": {
      "needs_background": "light",
      "tags": []
     },
     "output_type": "display_data"
    },
    {
     "data": {
      "image/png": "[encoded data removed]",
      "text/plain": [
       "<Figure size 864x432 with 2 Axes>"
      ]
     },
     "metadata": {
      "needs_background": "light",
      "tags": []
     },
     "output_type": "display_data"
    },
    {
     "data": {
      "image/png": "[encoded data removed]",
      "text/plain": [
       "<Figure size 864x432 with 2 Axes>"
      ]
     },
     "metadata": {
      "needs_background": "light",
      "tags": []
     },
     "output_type": "display_data"
    },
    {
     "data": {
      "image/png": "[encoded data removed]",
      "text/plain": [
       "<Figure size 864x432 with 2 Axes>"
      ]
     },
     "metadata": {
      "needs_background": "light",
      "tags": []
     },
     "output_type": "display_data"
    },
    {
     "data": {
      "image/png": "[encoded data removed]",
      "text/plain": [
       "<Figure size 864x432 with 2 Axes>"
      ]
     },
     "metadata": {
      "needs_background": "light",
      "tags": []
     },
     "output_type": "display_data"
    }
   ],
   "source": [
    "# we can build on this analysis by plotting the distribution and boxplots for each column\n",
    "\n",
    "# we loop through all the columns\n",
    "for col in boston_X.columns:\n",
    "    # and for each column we create space for one row with 2 charts \n",
    "    f, axes = plt.subplots(1, 2, figsize=(12, 6))\n",
    "    # our first chart is a histogram and we set the title \n",
    "    boston_X[col].hist(bins = 30, ax = axes[0])\n",
    "    axes[0].set_title('Distribution of '+ col)\n",
    "    # our second column is the boxplot \n",
    "    boston_X.boxplot(column = col, ax = axes[1])\n",
    "    # we then use this to command to display the charts\n",
    "    plt.show()"
   ]
  },
  {
   "cell_type": "markdown",
   "metadata": {
    "id": "6CL3CcD-KwMk"
   },
   "source": [
    "* A `histogram` tells is the number of times, or frequency, a value occurs within a `bin`, or bucket, that splits the data (and which we defined). A histogram shows the frequency with which values occur within each of these bins, and can tell us about the distribution of data. \n",
    "* A `boxplot` captures within the box the `interquartile range`, the range of values from Q1/25th percentile to Q3/75th percentile, and the median value. It also captures the `min` and `max` values of each feature.\n",
    "* Together, these charts show us the distribution of values for each feature. We can start to make judgements about how to treat the data, for example whether we want to deal with outliers; or whether we want to normalize the data."
   ]
  },
  {
   "cell_type": "code",
   "execution_count": 10,
   "metadata": {
    "executionInfo": {
     "elapsed": 5611,
     "status": "ok",
     "timestamp": 1607859811788,
     "user": {
      "displayName": "A J",
      "photoUrl": "https://lh3.googleusercontent.com/a-/AOh14GjZDwFqnFt3HwqF4Wu3Au0RSvls62YjJWudcDUj=s64",
      "userId": "15417262701029927930"
     },
     "user_tz": 0
    },
    "id": "gEF0gQVARwl4"
   },
   "outputs": [],
   "source": [
    "# we can now look at our target variable \n",
    "boston_y = boston.target"
   ]
  },
  {
   "cell_type": "code",
   "execution_count": 11,
   "metadata": {
    "colab": {
     "base_uri": "https://localhost:8080/",
     "height": 211
    },
    "executionInfo": {
     "elapsed": 5608,
     "status": "ok",
     "timestamp": 1607859811791,
     "user": {
      "displayName": "A J",
      "photoUrl": "https://lh3.googleusercontent.com/a-/AOh14GjZDwFqnFt3HwqF4Wu3Au0RSvls62YjJWudcDUj=s64",
      "userId": "15417262701029927930"
     },
     "user_tz": 0
    },
    "id": "1Ey1Bd3cRwmG",
    "outputId": "958df904-8185-4655-a87a-9a2f9db5fb0f"
   },
   "outputs": [
    {
     "data": {
      "image/png": "[encoded data removed]",
      "text/plain": [
       "<Figure size 432x288 with 1 Axes>"
      ]
     },
     "metadata": {
      "needs_background": "light",
      "tags": []
     },
     "output_type": "display_data"
    }
   ],
   "source": [
    "# we can plot a histogram in a slightly different way \n",
    "plt.hist(boston_y, bins = 40)\n",
    "plt.title('Housing price distribution, $K')\n",
    "plt.show()"
   ]
  },
  {
   "cell_type": "code",
   "execution_count": 12,
   "metadata": {
    "colab": {
     "base_uri": "https://localhost:8080/",
     "height": 211
    },
    "executionInfo": {
     "elapsed": 6020,
     "status": "ok",
     "timestamp": 1607859812208,
     "user": {
      "displayName": "A J",
      "photoUrl": "https://lh3.googleusercontent.com/a-/AOh14GjZDwFqnFt3HwqF4Wu3Au0RSvls62YjJWudcDUj=s64",
      "userId": "15417262701029927930"
     },
     "user_tz": 0
    },
    "id": "NVLEgbDQRwmK",
    "outputId": "5252f2b2-9163-42d4-a30b-c26654f52ca2"
   },
   "outputs": [
    {
     "data": {
      "image/png": "[encoded data removed]",
      "text/plain": [
       "<Figure size 432x288 with 1 Axes>"
      ]
     },
     "metadata": {
      "needs_background": "light",
      "tags": []
     },
     "output_type": "display_data"
    }
   ],
   "source": [
    "# and the same for the boxplot\n",
    "plt.boxplot(boston_y)\n",
    "plt.title('Box plot for housing price.')\n",
    "plt.show()"
   ]
  },
  {
   "cell_type": "code",
   "execution_count": 13,
   "metadata": {
    "colab": {
     "base_uri": "https://localhost:8080/",
     "height": 170
    },
    "executionInfo": {
     "elapsed": 6017,
     "status": "ok",
     "timestamp": 1607859812210,
     "user": {
      "displayName": "A J",
      "photoUrl": "https://lh3.googleusercontent.com/a-/AOh14GjZDwFqnFt3HwqF4Wu3Au0RSvls62YjJWudcDUj=s64",
      "userId": "15417262701029927930"
     },
     "user_tz": 0
    },
    "id": "ZLKEzT6cRwmc",
    "outputId": "3f37c5b2-6707-46bc-bfcd-2934d014cb95"
   },
   "outputs": [
    {
     "data": {
      "image/png": "[encoded data removed]",
      "text/plain": [
       "<Figure size 720x360 with 1 Axes>"
      ]
     },
     "metadata": {
      "needs_background": "light",
      "tags": []
     },
     "output_type": "display_data"
    }
   ],
   "source": [
    "# another thing we can do is plot a boxplot of one variable against the target variable \n",
    "# it is interesting to see how house value distribution differs by CHAS, the categorical variable \n",
    "\n",
    "# here we create a grouped dataframe that includes the target variable\n",
    "grouped_df = boston_X.copy()   # note we create a copy of the data here so that any changes don't impact the original data\n",
    "grouped_df['target'] = boston_y.copy()\n",
    "\n",
    "# we then plot it here\n",
    "f, axes = plt.subplots(1, 1, figsize=(10, 5))   \n",
    "grouped_df.boxplot(column='target', by = 'CHAS', ax = axes)\n",
    "plt.show()"
   ]
  },
  {
   "cell_type": "markdown",
   "metadata": {
    "id": "EAvzi4hVRwmj"
   },
   "source": [
    "* The `interquartile range`for houses next to the river is higher than for those houses not next to the river, and the `min` and `max` values differ too.\n",
    "* This suggests this could be an important variable for us to include in our model, given that as it differs, the target value distribution changes."
   ]
  },
  {
   "cell_type": "code",
   "execution_count": 14,
   "metadata": {
    "colab": {
     "base_uri": "https://localhost:8080/",
     "height": 250
    },
    "executionInfo": {
     "elapsed": 7255,
     "status": "ok",
     "timestamp": 1607859813453,
     "user": {
      "displayName": "A J",
      "photoUrl": "https://lh3.googleusercontent.com/a-/AOh14GjZDwFqnFt3HwqF4Wu3Au0RSvls62YjJWudcDUj=s64",
      "userId": "15417262701029927930"
     },
     "user_tz": 0
    },
    "id": "iyVI1CCERwmn",
    "outputId": "b9d64413-9ec5-4057-dc28-a80226cd7a7a"
   },
   "outputs": [
    {
     "data": {
      "text/plain": [
       "<matplotlib.axes._subplots.AxesSubplot at 0x7fe254a77c18>"
      ]
     },
     "execution_count": 14,
     "metadata": {
      "tags": []
     },
     "output_type": "execute_result"
    },
    {
     "data": {
      "image/png": "[encoded data removed]",
      "text/plain": [
       "<Figure size 1080x720 with 2 Axes>"
      ]
     },
     "metadata": {
      "needs_background": "light",
      "tags": []
     },
     "output_type": "display_data"
    }
   ],
   "source": [
    "# we can extend this sort of analysis by creating a heatmap\n",
    "# this shows the correlation between the features and target\n",
    "\n",
    "# first we compute the correlation\n",
    "corr = grouped_df.corr(method='pearson')\n",
    "# and plot our figure size\n",
    "plt.figure(figsize = (15, 10))\n",
    "# and use seaborn to fill this figure with a heatmap\n",
    "sns.heatmap(corr, annot = True)"
   ]
  },
  {
   "cell_type": "markdown",
   "metadata": {
    "id": "igkBCvFpRwms"
   },
   "source": [
    "* We will let you review this heatmap to see what features are important for modelling and why. "
   ]
  },
  {
   "cell_type": "code",
   "execution_count": 15,
   "metadata": {
    "executionInfo": {
     "elapsed": 7252,
     "status": "ok",
     "timestamp": 1607859813455,
     "user": {
      "displayName": "A J",
      "photoUrl": "https://lh3.googleusercontent.com/a-/AOh14GjZDwFqnFt3HwqF4Wu3Au0RSvls62YjJWudcDUj=s64",
      "userId": "15417262701029927930"
     },
     "user_tz": 0
    },
    "id": "gv0rCefPRwmX"
   },
   "outputs": [],
   "source": [
    "# OPTIONAL: below is code that generate a pairplot using seaborn \n",
    "# look up what a pairplot is and see if you can interpret the output of the code below\n",
    "\n",
    "#sns.pairplot(grouped_df)"
   ]
  },
  {
   "cell_type": "markdown",
   "metadata": {
    "id": "_lFYZkbvRwnC"
   },
   "source": [
    "#### Preprocess the data\n",
    "* We proprocess the data to ensure it is a suitable state for modelling. The sort of things that we do to preprocess the data includes:\n",
    "  * *Dealing with missing values*, where we identify what, if, any missing data we have and how to deal with it. For example, we may replace missing values with the mean value for that feature, or by the average of the neighbouring values. \n",
    "    * `pandas` has a number of options for filling in missing data that is worth exploring\n",
    "    * We can also use `k-nearest neighbour`to help us predict what the missing values should be, or `sklearn Imputer` function (amongst other ways)\n",
    "  * *Treat categorical values*, by converting them into a numerical representation that can be modelled.\n",
    "    * There are a number of different ways to do this in `sklearn` and `pandas`\n",
    "  * *Normalise the data*, for example by ensuring the data is, for example all on the scale (such as within two defined values); normally distributed; has a zero-mean, etc. This is sometimes necessary for the ML models to work, and can also help speed up the time it takes for the models to run.  \n",
    "    * Again, `sklearn` and `pandas` have in-built functions to help you do this.\n",
    "* In this notebook, we will look to remove `outliers`, which are values that might be erroneous and which can over-influence the model, and `normalize` the data"
   ]
  },
  {
   "cell_type": "code",
   "execution_count": 18,
   "metadata": {
    "executionInfo": {
     "elapsed": 819,
     "status": "ok",
     "timestamp": 1607859843083,
     "user": {
      "displayName": "A J",
      "photoUrl": "https://lh3.googleusercontent.com/a-/AOh14GjZDwFqnFt3HwqF4Wu3Au0RSvls62YjJWudcDUj=s64",
      "userId": "15417262701029927930"
     },
     "user_tz": 0
    },
    "id": "Me7QTjz5Rwmx"
   },
   "outputs": [],
   "source": [
    "# lets start by removing outliers\n",
    " \n",
    "# here we define the columns where we have identified there could be outliers\n",
    "numeric_columns = ['CRIM', 'ZN', 'INDUS', 'NOX', 'RM', 'AGE', 'DIS', 'RAD', 'TAX', 'PTRATIO', 'LSTAT']\n",
    " \n",
    "# this function can be used on any dataset to return a list of index values for the outliers \n",
    "def get_outliers(data, columns):\n",
    "    # we create an empty list\n",
    "    outlier_idxs = []\n",
    "    for col in columns:\n",
    "        elements = data[col]\n",
    "        # we get the mean value for each column\n",
    "        mean = elements.mean()\n",
    "        # and the standard deviation of the column\n",
    "        sd = elements.std()\n",
    "        # we then get the index values of all values higher or lower than the mean +/- 2 standard deviations\n",
    "        outliers_mask = data[(data[col] > mean + 3*sd) | (data[col]  < mean  - 3*sd)].index\n",
    "        # and add those values to our list\n",
    "        outlier_idxs  += [x for x in outliers_mask]\n",
    "    return list(set(outlier_idxs))"
   ]
  },
  {
   "cell_type": "code",
   "execution_count": 20,
   "metadata": {
    "executionInfo": {
     "elapsed": 1103,
     "status": "ok",
     "timestamp": 1607859856659,
     "user": {
      "displayName": "A J",
      "photoUrl": "https://lh3.googleusercontent.com/a-/AOh14GjZDwFqnFt3HwqF4Wu3Au0RSvls62YjJWudcDUj=s64",
      "userId": "15417262701029927930"
     },
     "user_tz": 0
    },
    "id": "ZHyG6JKrRwm0"
   },
   "outputs": [],
   "source": [
    "# we call the function we just created on the boston dataset\n",
    "boston_outliers = get_outliers(boston_X, numeric_columns)"
   ]
  },
  {
   "cell_type": "code",
   "execution_count": 21,
   "metadata": {
    "executionInfo": {
     "elapsed": 1094,
     "status": "ok",
     "timestamp": 1607859856661,
     "user": {
      "displayName": "A J",
      "photoUrl": "https://lh3.googleusercontent.com/a-/AOh14GjZDwFqnFt3HwqF4Wu3Au0RSvls62YjJWudcDUj=s64",
      "userId": "15417262701029927930"
     },
     "user_tz": 0
    },
    "id": "g4fqbCRJRwm4"
   },
   "outputs": [],
   "source": [
    "# and drop those values from our feature and target values\n",
    "boston_X = boston_X.drop(boston_outliers, axis = 0)\n",
    "boston_y = pd.DataFrame(boston_y).drop(boston_outliers, axis = 0).values.ravel()"
   ]
  },
  {
   "cell_type": "code",
   "execution_count": 22,
   "metadata": {
    "colab": {
     "base_uri": "https://localhost:8080/"
    },
    "executionInfo": {
     "elapsed": 1086,
     "status": "ok",
     "timestamp": 1607859856663,
     "user": {
      "displayName": "A J",
      "photoUrl": "https://lh3.googleusercontent.com/a-/AOh14GjZDwFqnFt3HwqF4Wu3Au0RSvls62YjJWudcDUj=s64",
      "userId": "15417262701029927930"
     },
     "user_tz": 0
    },
    "id": "pdedvCKLRwm7",
    "outputId": "6ca3c810-e74a-466b-c122-2d2e60e804f0"
   },
   "outputs": [
    {
     "name": "stdout",
     "output_type": "stream",
     "text": [
      "(469, 12)\n",
      "(469,)\n"
     ]
    }
   ],
   "source": [
    "# we can check that this code has worked by looking at the shape of our data \n",
    "print (boston_X.shape)\n",
    "print (boston_y.shape)"
   ]
  },
  {
   "cell_type": "code",
   "execution_count": 23,
   "metadata": {
    "colab": {
     "base_uri": "https://localhost:8080/",
     "height": 379
    },
    "executionInfo": {
     "elapsed": 1600,
     "status": "ok",
     "timestamp": 1607859857186,
     "user": {
      "displayName": "A J",
      "photoUrl": "https://lh3.googleusercontent.com/a-/AOh14GjZDwFqnFt3HwqF4Wu3Au0RSvls62YjJWudcDUj=s64",
      "userId": "15417262701029927930"
     },
     "user_tz": 0
    },
    "id": "Voepu7b504DC",
    "outputId": "007b130e-d746-4ca4-d537-d7e03f4d90c6"
   },
   "outputs": [
    {
     "data": {
      "text/html": [
       "<div>\n",
       "<style scoped>\n",
       "    .dataframe tbody tr th:only-of-type {\n",
       "        vertical-align: middle;\n",
       "    }\n",
       "\n",
       "    .dataframe tbody tr th {\n",
       "        vertical-align: top;\n",
       "    }\n",
       "\n",
       "    .dataframe thead th {\n",
       "        text-align: right;\n",
       "    }\n",
       "</style>\n",
       "<table border=\"1\" class=\"dataframe\">\n",
       "  <thead>\n",
       "    <tr style=\"text-align: right;\">\n",
       "      <th></th>\n",
       "      <th>CRIM</th>\n",
       "      <th>ZN</th>\n",
       "      <th>INDUS</th>\n",
       "      <th>CHAS</th>\n",
       "      <th>NOX</th>\n",
       "      <th>RM</th>\n",
       "      <th>AGE</th>\n",
       "      <th>DIS</th>\n",
       "      <th>RAD</th>\n",
       "      <th>TAX</th>\n",
       "      <th>PTRATIO</th>\n",
       "      <th>LSTAT</th>\n",
       "    </tr>\n",
       "  </thead>\n",
       "  <tbody>\n",
       "    <tr>\n",
       "      <th>0</th>\n",
       "      <td>0.00632</td>\n",
       "      <td>18.0</td>\n",
       "      <td>2.31</td>\n",
       "      <td>0.0</td>\n",
       "      <td>0.538</td>\n",
       "      <td>6.575</td>\n",
       "      <td>65.2</td>\n",
       "      <td>4.0900</td>\n",
       "      <td>1.0</td>\n",
       "      <td>296.0</td>\n",
       "      <td>15.3</td>\n",
       "      <td>4.98</td>\n",
       "    </tr>\n",
       "    <tr>\n",
       "      <th>1</th>\n",
       "      <td>0.02731</td>\n",
       "      <td>0.0</td>\n",
       "      <td>7.07</td>\n",
       "      <td>0.0</td>\n",
       "      <td>0.469</td>\n",
       "      <td>6.421</td>\n",
       "      <td>78.9</td>\n",
       "      <td>4.9671</td>\n",
       "      <td>2.0</td>\n",
       "      <td>242.0</td>\n",
       "      <td>17.8</td>\n",
       "      <td>9.14</td>\n",
       "    </tr>\n",
       "    <tr>\n",
       "      <th>2</th>\n",
       "      <td>0.02729</td>\n",
       "      <td>0.0</td>\n",
       "      <td>7.07</td>\n",
       "      <td>0.0</td>\n",
       "      <td>0.469</td>\n",
       "      <td>7.185</td>\n",
       "      <td>61.1</td>\n",
       "      <td>4.9671</td>\n",
       "      <td>2.0</td>\n",
       "      <td>242.0</td>\n",
       "      <td>17.8</td>\n",
       "      <td>4.03</td>\n",
       "    </tr>\n",
       "    <tr>\n",
       "      <th>3</th>\n",
       "      <td>0.03237</td>\n",
       "      <td>0.0</td>\n",
       "      <td>2.18</td>\n",
       "      <td>0.0</td>\n",
       "      <td>0.458</td>\n",
       "      <td>6.998</td>\n",
       "      <td>45.8</td>\n",
       "      <td>6.0622</td>\n",
       "      <td>3.0</td>\n",
       "      <td>222.0</td>\n",
       "      <td>18.7</td>\n",
       "      <td>2.94</td>\n",
       "    </tr>\n",
       "    <tr>\n",
       "      <th>4</th>\n",
       "      <td>0.06905</td>\n",
       "      <td>0.0</td>\n",
       "      <td>2.18</td>\n",
       "      <td>0.0</td>\n",
       "      <td>0.458</td>\n",
       "      <td>7.147</td>\n",
       "      <td>54.2</td>\n",
       "      <td>6.0622</td>\n",
       "      <td>3.0</td>\n",
       "      <td>222.0</td>\n",
       "      <td>18.7</td>\n",
       "      <td>5.33</td>\n",
       "    </tr>\n",
       "    <tr>\n",
       "      <th>5</th>\n",
       "      <td>0.02985</td>\n",
       "      <td>0.0</td>\n",
       "      <td>2.18</td>\n",
       "      <td>0.0</td>\n",
       "      <td>0.458</td>\n",
       "      <td>6.430</td>\n",
       "      <td>58.7</td>\n",
       "      <td>6.0622</td>\n",
       "      <td>3.0</td>\n",
       "      <td>222.0</td>\n",
       "      <td>18.7</td>\n",
       "      <td>5.21</td>\n",
       "    </tr>\n",
       "    <tr>\n",
       "      <th>6</th>\n",
       "      <td>0.08829</td>\n",
       "      <td>12.5</td>\n",
       "      <td>7.87</td>\n",
       "      <td>0.0</td>\n",
       "      <td>0.524</td>\n",
       "      <td>6.012</td>\n",
       "      <td>66.6</td>\n",
       "      <td>5.5605</td>\n",
       "      <td>5.0</td>\n",
       "      <td>311.0</td>\n",
       "      <td>15.2</td>\n",
       "      <td>12.43</td>\n",
       "    </tr>\n",
       "    <tr>\n",
       "      <th>7</th>\n",
       "      <td>0.14455</td>\n",
       "      <td>12.5</td>\n",
       "      <td>7.87</td>\n",
       "      <td>0.0</td>\n",
       "      <td>0.524</td>\n",
       "      <td>6.172</td>\n",
       "      <td>96.1</td>\n",
       "      <td>5.9505</td>\n",
       "      <td>5.0</td>\n",
       "      <td>311.0</td>\n",
       "      <td>15.2</td>\n",
       "      <td>19.15</td>\n",
       "    </tr>\n",
       "    <tr>\n",
       "      <th>8</th>\n",
       "      <td>0.21124</td>\n",
       "      <td>12.5</td>\n",
       "      <td>7.87</td>\n",
       "      <td>0.0</td>\n",
       "      <td>0.524</td>\n",
       "      <td>5.631</td>\n",
       "      <td>100.0</td>\n",
       "      <td>6.0821</td>\n",
       "      <td>5.0</td>\n",
       "      <td>311.0</td>\n",
       "      <td>15.2</td>\n",
       "      <td>29.93</td>\n",
       "    </tr>\n",
       "    <tr>\n",
       "      <th>9</th>\n",
       "      <td>0.17004</td>\n",
       "      <td>12.5</td>\n",
       "      <td>7.87</td>\n",
       "      <td>0.0</td>\n",
       "      <td>0.524</td>\n",
       "      <td>6.004</td>\n",
       "      <td>85.9</td>\n",
       "      <td>6.5921</td>\n",
       "      <td>5.0</td>\n",
       "      <td>311.0</td>\n",
       "      <td>15.2</td>\n",
       "      <td>17.10</td>\n",
       "    </tr>\n",
       "  </tbody>\n",
       "</table>\n",
       "</div>"
      ],
      "text/plain": [
       "      CRIM    ZN  INDUS  CHAS    NOX  ...     DIS  RAD    TAX  PTRATIO  LSTAT\n",
       "0  0.00632  18.0   2.31   0.0  0.538  ...  4.0900  1.0  296.0     15.3   4.98\n",
       "1  0.02731   0.0   7.07   0.0  0.469  ...  4.9671  2.0  242.0     17.8   9.14\n",
       "2  0.02729   0.0   7.07   0.0  0.469  ...  4.9671  2.0  242.0     17.8   4.03\n",
       "3  0.03237   0.0   2.18   0.0  0.458  ...  6.0622  3.0  222.0     18.7   2.94\n",
       "4  0.06905   0.0   2.18   0.0  0.458  ...  6.0622  3.0  222.0     18.7   5.33\n",
       "5  0.02985   0.0   2.18   0.0  0.458  ...  6.0622  3.0  222.0     18.7   5.21\n",
       "6  0.08829  12.5   7.87   0.0  0.524  ...  5.5605  5.0  311.0     15.2  12.43\n",
       "7  0.14455  12.5   7.87   0.0  0.524  ...  5.9505  5.0  311.0     15.2  19.15\n",
       "8  0.21124  12.5   7.87   0.0  0.524  ...  6.0821  5.0  311.0     15.2  29.93\n",
       "9  0.17004  12.5   7.87   0.0  0.524  ...  6.5921  5.0  311.0     15.2  17.10\n",
       "\n",
       "[10 rows x 12 columns]"
      ]
     },
     "execution_count": 23,
     "metadata": {
      "tags": []
     },
     "output_type": "execute_result"
    }
   ],
   "source": [
    "# we can also create a function to normalize our data\n",
    "# first lets look at the data before normalisation\n",
    "boston_X[0:10]"
   ]
  },
  {
   "cell_type": "code",
   "execution_count": 24,
   "metadata": {
    "executionInfo": {
     "elapsed": 1592,
     "status": "ok",
     "timestamp": 1607859857188,
     "user": {
      "displayName": "A J",
      "photoUrl": "https://lh3.googleusercontent.com/a-/AOh14GjZDwFqnFt3HwqF4Wu3Au0RSvls62YjJWudcDUj=s64",
      "userId": "15417262701029927930"
     },
     "user_tz": 0
    },
    "id": "G65uHpDoRwnE"
   },
   "outputs": [],
   "source": [
    "# this function loops through columns in a data set and defines a predefined scaler to each\n",
    "def scale_numeric(data, numeric_columns, scaler):\n",
    "    for col in numeric_columns:\n",
    "        data[col] = scaler.fit_transform(data[col].values.reshape(-1, 1))\n",
    "    return data"
   ]
  },
  {
   "cell_type": "code",
   "execution_count": 25,
   "metadata": {
    "executionInfo": {
     "elapsed": 1583,
     "status": "ok",
     "timestamp": 1607859857189,
     "user": {
      "displayName": "A J",
      "photoUrl": "https://lh3.googleusercontent.com/a-/AOh14GjZDwFqnFt3HwqF4Wu3Au0RSvls62YjJWudcDUj=s64",
      "userId": "15417262701029927930"
     },
     "user_tz": 0
    },
    "id": "fwSyaoRWRwnI"
   },
   "outputs": [],
   "source": [
    "# we can now define the scaler we want to use and apply it to our dataset \n",
    "\n",
    "# a good exercise would be to research waht StandardScaler does - it is from the scikit learn library \n",
    "scaler = StandardScaler()\n",
    "boston_X = scale_numeric(boston_X, numeric_columns, scaler)"
   ]
  },
  {
   "cell_type": "code",
   "execution_count": 26,
   "metadata": {
    "colab": {
     "base_uri": "https://localhost:8080/",
     "height": 379
    },
    "executionInfo": {
     "elapsed": 1575,
     "status": "ok",
     "timestamp": 1607859857191,
     "user": {
      "displayName": "A J",
      "photoUrl": "https://lh3.googleusercontent.com/a-/AOh14GjZDwFqnFt3HwqF4Wu3Au0RSvls62YjJWudcDUj=s64",
      "userId": "15417262701029927930"
     },
     "user_tz": 0
    },
    "id": "IZBAAGOsXzJP",
    "outputId": "41f9d44d-b850-43e8-ccbb-d4b5cc5e1aaa"
   },
   "outputs": [
    {
     "data": {
      "text/html": [
       "<div>\n",
       "<style scoped>\n",
       "    .dataframe tbody tr th:only-of-type {\n",
       "        vertical-align: middle;\n",
       "    }\n",
       "\n",
       "    .dataframe tbody tr th {\n",
       "        vertical-align: top;\n",
       "    }\n",
       "\n",
       "    .dataframe thead th {\n",
       "        text-align: right;\n",
       "    }\n",
       "</style>\n",
       "<table border=\"1\" class=\"dataframe\">\n",
       "  <thead>\n",
       "    <tr style=\"text-align: right;\">\n",
       "      <th></th>\n",
       "      <th>CRIM</th>\n",
       "      <th>ZN</th>\n",
       "      <th>INDUS</th>\n",
       "      <th>CHAS</th>\n",
       "      <th>NOX</th>\n",
       "      <th>RM</th>\n",
       "      <th>AGE</th>\n",
       "      <th>DIS</th>\n",
       "      <th>RAD</th>\n",
       "      <th>TAX</th>\n",
       "      <th>PTRATIO</th>\n",
       "      <th>LSTAT</th>\n",
       "    </tr>\n",
       "  </thead>\n",
       "  <tbody>\n",
       "    <tr>\n",
       "      <th>0</th>\n",
       "      <td>-0.548994</td>\n",
       "      <td>0.482440</td>\n",
       "      <td>-1.331520</td>\n",
       "      <td>0.0</td>\n",
       "      <td>-0.158204</td>\n",
       "      <td>0.480898</td>\n",
       "      <td>-0.143244</td>\n",
       "      <td>0.195980</td>\n",
       "      <td>-0.977034</td>\n",
       "      <td>-0.652970</td>\n",
       "      <td>-1.499062</td>\n",
       "      <td>-1.145501</td>\n",
       "    </tr>\n",
       "    <tr>\n",
       "      <th>1</th>\n",
       "      <td>-0.544792</td>\n",
       "      <td>-0.469807</td>\n",
       "      <td>-0.625009</td>\n",
       "      <td>0.0</td>\n",
       "      <td>-0.760481</td>\n",
       "      <td>0.230239</td>\n",
       "      <td>0.355341</td>\n",
       "      <td>0.653616</td>\n",
       "      <td>-0.860169</td>\n",
       "      <td>-0.977329</td>\n",
       "      <td>-0.320854</td>\n",
       "      <td>-0.522533</td>\n",
       "    </tr>\n",
       "    <tr>\n",
       "      <th>2</th>\n",
       "      <td>-0.544796</td>\n",
       "      <td>-0.469807</td>\n",
       "      <td>-0.625009</td>\n",
       "      <td>0.0</td>\n",
       "      <td>-0.760481</td>\n",
       "      <td>1.473769</td>\n",
       "      <td>-0.292456</td>\n",
       "      <td>0.653616</td>\n",
       "      <td>-0.860169</td>\n",
       "      <td>-0.977329</td>\n",
       "      <td>-0.320854</td>\n",
       "      <td>-1.287766</td>\n",
       "    </tr>\n",
       "    <tr>\n",
       "      <th>3</th>\n",
       "      <td>-0.543779</td>\n",
       "      <td>-0.469807</td>\n",
       "      <td>-1.350815</td>\n",
       "      <td>0.0</td>\n",
       "      <td>-0.856496</td>\n",
       "      <td>1.169397</td>\n",
       "      <td>-0.849271</td>\n",
       "      <td>1.224996</td>\n",
       "      <td>-0.743303</td>\n",
       "      <td>-1.097462</td>\n",
       "      <td>0.103300</td>\n",
       "      <td>-1.450995</td>\n",
       "    </tr>\n",
       "    <tr>\n",
       "      <th>4</th>\n",
       "      <td>-0.536435</td>\n",
       "      <td>-0.469807</td>\n",
       "      <td>-1.350815</td>\n",
       "      <td>0.0</td>\n",
       "      <td>-0.856496</td>\n",
       "      <td>1.411918</td>\n",
       "      <td>-0.543569</td>\n",
       "      <td>1.224996</td>\n",
       "      <td>-0.743303</td>\n",
       "      <td>-1.097462</td>\n",
       "      <td>0.103300</td>\n",
       "      <td>-1.093088</td>\n",
       "    </tr>\n",
       "    <tr>\n",
       "      <th>5</th>\n",
       "      <td>-0.544283</td>\n",
       "      <td>-0.469807</td>\n",
       "      <td>-1.350815</td>\n",
       "      <td>0.0</td>\n",
       "      <td>-0.856496</td>\n",
       "      <td>0.244888</td>\n",
       "      <td>-0.379800</td>\n",
       "      <td>1.224996</td>\n",
       "      <td>-0.743303</td>\n",
       "      <td>-1.097462</td>\n",
       "      <td>0.103300</td>\n",
       "      <td>-1.111058</td>\n",
       "    </tr>\n",
       "    <tr>\n",
       "      <th>6</th>\n",
       "      <td>-0.532583</td>\n",
       "      <td>0.191476</td>\n",
       "      <td>-0.506268</td>\n",
       "      <td>0.0</td>\n",
       "      <td>-0.280406</td>\n",
       "      <td>-0.435473</td>\n",
       "      <td>-0.092294</td>\n",
       "      <td>0.963229</td>\n",
       "      <td>-0.509573</td>\n",
       "      <td>-0.562870</td>\n",
       "      <td>-1.546191</td>\n",
       "      <td>-0.029848</td>\n",
       "    </tr>\n",
       "    <tr>\n",
       "      <th>7</th>\n",
       "      <td>-0.521320</td>\n",
       "      <td>0.191476</td>\n",
       "      <td>-0.506268</td>\n",
       "      <td>0.0</td>\n",
       "      <td>-0.280406</td>\n",
       "      <td>-0.175048</td>\n",
       "      <td>0.981302</td>\n",
       "      <td>1.166715</td>\n",
       "      <td>-0.509573</td>\n",
       "      <td>-0.562870</td>\n",
       "      <td>-1.546191</td>\n",
       "      <td>0.976486</td>\n",
       "    </tr>\n",
       "    <tr>\n",
       "      <th>8</th>\n",
       "      <td>-0.507968</td>\n",
       "      <td>0.191476</td>\n",
       "      <td>-0.506268</td>\n",
       "      <td>0.0</td>\n",
       "      <td>-0.280406</td>\n",
       "      <td>-1.055610</td>\n",
       "      <td>1.123236</td>\n",
       "      <td>1.235379</td>\n",
       "      <td>-0.509573</td>\n",
       "      <td>-0.562870</td>\n",
       "      <td>-1.546191</td>\n",
       "      <td>2.590813</td>\n",
       "    </tr>\n",
       "    <tr>\n",
       "      <th>9</th>\n",
       "      <td>-0.516217</td>\n",
       "      <td>0.191476</td>\n",
       "      <td>-0.506268</td>\n",
       "      <td>0.0</td>\n",
       "      <td>-0.280406</td>\n",
       "      <td>-0.448494</td>\n",
       "      <td>0.610093</td>\n",
       "      <td>1.501476</td>\n",
       "      <td>-0.509573</td>\n",
       "      <td>-0.562870</td>\n",
       "      <td>-1.546191</td>\n",
       "      <td>0.669494</td>\n",
       "    </tr>\n",
       "  </tbody>\n",
       "</table>\n",
       "</div>"
      ],
      "text/plain": [
       "       CRIM        ZN     INDUS  CHAS  ...       RAD       TAX   PTRATIO     LSTAT\n",
       "0 -0.548994  0.482440 -1.331520   0.0  ... -0.977034 -0.652970 -1.499062 -1.145501\n",
       "1 -0.544792 -0.469807 -0.625009   0.0  ... -0.860169 -0.977329 -0.320854 -0.522533\n",
       "2 -0.544796 -0.469807 -0.625009   0.0  ... -0.860169 -0.977329 -0.320854 -1.287766\n",
       "3 -0.543779 -0.469807 -1.350815   0.0  ... -0.743303 -1.097462  0.103300 -1.450995\n",
       "4 -0.536435 -0.469807 -1.350815   0.0  ... -0.743303 -1.097462  0.103300 -1.093088\n",
       "5 -0.544283 -0.469807 -1.350815   0.0  ... -0.743303 -1.097462  0.103300 -1.111058\n",
       "6 -0.532583  0.191476 -0.506268   0.0  ... -0.509573 -0.562870 -1.546191 -0.029848\n",
       "7 -0.521320  0.191476 -0.506268   0.0  ... -0.509573 -0.562870 -1.546191  0.976486\n",
       "8 -0.507968  0.191476 -0.506268   0.0  ... -0.509573 -0.562870 -1.546191  2.590813\n",
       "9 -0.516217  0.191476 -0.506268   0.0  ... -0.509573 -0.562870 -1.546191  0.669494\n",
       "\n",
       "[10 rows x 12 columns]"
      ]
     },
     "execution_count": 26,
     "metadata": {
      "tags": []
     },
     "output_type": "execute_result"
    }
   ],
   "source": [
    "# here we can see the result \n",
    "boston_X[0:10]"
   ]
  },
  {
   "cell_type": "markdown",
   "metadata": {
    "id": "soT57bwIloeU"
   },
   "source": [
    "## SECTION 2: Machine Learning Workflow"
   ]
  },
  {
   "cell_type": "markdown",
   "metadata": {
    "id": "wqFpAGlfmFRi"
   },
   "source": [
    "![alt text](https://github.com/DanRHowarth/Artificial-Intelligence-Cloud-and-Edge-Implementations/blob/master/Screenshot%202019-11-11%20at%2022.01.44.png?raw=true)"
   ]
  },
  {
   "cell_type": "markdown",
   "metadata": {
    "id": "3uakxP6vlmW-"
   },
   "source": [
    "### 3. Split the data set \n",
    "* We will split our data so that we can train our model using a `training set` and test it on a `testing set`, which has previously not been seen by our model.\n",
    "* We can do this in a variety of ways, from simply splitting the data 'manually' to using techniques such as cross-validation. Testing different approaches, including how much data to holdback for testing, is part of the trial and error of building a machine learning model. \n",
    "\n",
    "### 4. Choose the most appropriate baseline algorithm\n",
    "* We will develop a basic, baseline model, to compare our more sophsiticated models with. \n",
    "* In the real world, this could be the current way things are done, even if this is currently not a machine learning method - it is often good to compare a complex model to something more basic to see what gains are really being achieved. \n",
    "\n",
    "### 5. Train and test your baseline model\n",
    "* Given our baseline model and evaluation metric, we will train our model on our training data and test it on our testing data.\n",
    "\n",
    "### 6. Chose quality evaluation metric(s)\n",
    "* We will choose a method to assess our model, and use this to compare all the models we develop.  \n",
    "* There are often a number of different metrics available, so it is important to consider what works best for a given problem and optimise the model for that metric.\n",
    "\n",
    "### 7. Refine our dataset to improve the baseline model\n",
    "* We can use a process called `feature engineering` to improve how our dataset represents the problem we are trying to solve (for example by putting more emphasis on certain aspects of the data).\n",
    "* Feature engineering is a key part of machine learning. \n",
    "\n",
    "### 8. Test alternative models\n",
    "* Once we have a good baseline, we can test alternative models that may perform better. We will compare them using the results from the test dataset. \n",
    "\n",
    "### 9. Choose the best model and optimize it's parameters\n",
    "* Each model that we test will have a wide range of parameters that can be altered to change performance. \n",
    "* Once we have an idea of our best models, we can further refine our results by testing whether these parameters improve performance. "
   ]
  },
  {
   "cell_type": "markdown",
   "metadata": {
    "id": "eEkoVkHhRwnM"
   },
   "source": [
    "####  Step 3: Split the data\n",
    "* In order to train our model and see how well it performs, we need to split our data into training and testing sets.\n",
    "* We can then train our model on the training set, and test how well it has generalised to the data on the test set.\n",
    "* There are a number of options for how we can split the data, and for what proportion of our original data we set aside for the test set."
   ]
  },
  {
   "cell_type": "code",
   "execution_count": 27,
   "metadata": {
    "executionInfo": {
     "elapsed": 1567,
     "status": "ok",
     "timestamp": 1607859857192,
     "user": {
      "displayName": "A J",
      "photoUrl": "https://lh3.googleusercontent.com/a-/AOh14GjZDwFqnFt3HwqF4Wu3Au0RSvls62YjJWudcDUj=s64",
      "userId": "15417262701029927930"
     },
     "user_tz": 0
    },
    "id": "aj-Kx5NKRwnN"
   },
   "outputs": [],
   "source": [
    "# a common way for splitting our dataset is using train_test_split \n",
    "\n",
    "# as an exercise, go to the scikit learn documentation to learn more about this function and the parameters available \n",
    "X_train, X_test, Y_train, Y_test = model_selection.train_test_split(boston_X, boston_y, test_size = 0.2, random_state = 5)"
   ]
  },
  {
   "cell_type": "code",
   "execution_count": 28,
   "metadata": {
    "colab": {
     "base_uri": "https://localhost:8080/"
    },
    "executionInfo": {
     "elapsed": 1559,
     "status": "ok",
     "timestamp": 1607859857194,
     "user": {
      "displayName": "A J",
      "photoUrl": "https://lh3.googleusercontent.com/a-/AOh14GjZDwFqnFt3HwqF4Wu3Au0RSvls62YjJWudcDUj=s64",
      "userId": "15417262701029927930"
     },
     "user_tz": 0
    },
    "id": "2wXJ5tHXE1Hy",
    "outputId": "e794ef31-c4c3-4a93-bc5f-efdfa2abbc2b"
   },
   "outputs": [
    {
     "name": "stdout",
     "output_type": "stream",
     "text": [
      "Training Set:\n",
      "Number of datapoints:  375\n",
      "Number of features:  12\n",
      "\n",
      "\n",
      "Test Set:\n",
      "Number of datapoints:  94\n",
      "Number of features:  12\n"
     ]
    }
   ],
   "source": [
    "# get shape of test and training sets\n",
    "print('Training Set:')\n",
    "print('Number of datapoints: ', X_train.shape[0])\n",
    "print('Number of features: ', X_train.shape[1])\n",
    "print('\\n')\n",
    "print('Test Set:')\n",
    "print('Number of datapoints: ', X_test.shape[0])\n",
    "print('Number of features: ', X_test.shape[1])"
   ]
  },
  {
   "cell_type": "markdown",
   "metadata": {
    "id": "SKsLhTO9RwnT"
   },
   "source": [
    "###  Step 4: Choose a Baseline algorithm\n",
    "* Building a model in `sklearn` involves:\n",
    "  * defining / instantiating the model we want to use and its parameters (**Step 4**)\n",
    "  * fitting the model we have developed to our training set (**Step 5**)\n",
    "* We can then use the model to predict scores against our test set and assess how good it is\n",
    "* To do this, we need to define an evaluation metric (**Step 6**). There are a number of different options, and they differ for both regression and classification problems. This score will be what we use to select our best model, and the best parameters. \n",
    "* We will take through these steps now. As you will see, the code required to implement these steps is minimal, thanks to different methods provided for us by  `sklearn`.\n",
    "\n"
   ]
  },
  {
   "cell_type": "code",
   "execution_count": 29,
   "metadata": {
    "executionInfo": {
     "elapsed": 1551,
     "status": "ok",
     "timestamp": 1607859857195,
     "user": {
      "displayName": "A J",
      "photoUrl": "https://lh3.googleusercontent.com/a-/AOh14GjZDwFqnFt3HwqF4Wu3Au0RSvls62YjJWudcDUj=s64",
      "userId": "15417262701029927930"
     },
     "user_tz": 0
    },
    "id": "UyfXHZ5ORwnU"
   },
   "outputs": [],
   "source": [
    "# we instantiate a model by storing it as a variable \n",
    "# this is the same process for most of the algorithms available in scikit learn (though you will need to import different libraries for different algorithms)\n",
    "\n",
    "# linear regression is a fairly simple algorithm compared to more complicate regression options, so provides a good baseline\n",
    "lm = LinearRegression()"
   ]
  },
  {
   "cell_type": "markdown",
   "metadata": {
    "id": "4TlmWZq1Rwni"
   },
   "source": [
    "### Step 5: Train and Test the Model "
   ]
  },
  {
   "cell_type": "code",
   "execution_count": 30,
   "metadata": {
    "colab": {
     "base_uri": "https://localhost:8080/"
    },
    "executionInfo": {
     "elapsed": 1545,
     "status": "ok",
     "timestamp": 1607859857196,
     "user": {
      "displayName": "A J",
      "photoUrl": "https://lh3.googleusercontent.com/a-/AOh14GjZDwFqnFt3HwqF4Wu3Au0RSvls62YjJWudcDUj=s64",
      "userId": "15417262701029927930"
     },
     "user_tz": 0
    },
    "id": "zuN3ot2LRwnj",
    "outputId": "9aa31c5a-af57-4c5d-fcf8-05a3691d27a5"
   },
   "outputs": [
    {
     "data": {
      "text/plain": [
       "LinearRegression(copy_X=True, fit_intercept=True, n_jobs=None, normalize=False)"
      ]
     },
     "execution_count": 30,
     "metadata": {
      "tags": []
     },
     "output_type": "execute_result"
    }
   ],
   "source": [
    "# fitting the model to the data means to train our model on the data\n",
    "# the fit function takes both the X and y variables of the training data \n",
    "lm.fit(X_train, Y_train)"
   ]
  },
  {
   "cell_type": "code",
   "execution_count": 31,
   "metadata": {
    "executionInfo": {
     "elapsed": 1541,
     "status": "ok",
     "timestamp": 1607859857198,
     "user": {
      "displayName": "A J",
      "photoUrl": "https://lh3.googleusercontent.com/a-/AOh14GjZDwFqnFt3HwqF4Wu3Au0RSvls62YjJWudcDUj=s64",
      "userId": "15417262701029927930"
     },
     "user_tz": 0
    },
    "id": "VuQeySC1II07"
   },
   "outputs": [],
   "source": [
    "# from this, we can generate a set of predictions on our unseen features, X_test\n",
    "Y_pred = lm.predict(X_test)"
   ]
  },
  {
   "cell_type": "markdown",
   "metadata": {
    "id": "hOc-7BGoRwne"
   },
   "source": [
    "###  Step 6: Choose an evaluation metric\n",
    "* We then need to compare these predictions with the actual result and measure them in some way.\n",
    "* This is where the selection of evaluation metric is important. For regression, we measure the distance between the predicted and actual answers in some way. The shorter the distance, the more correct the model is. \n",
    "* We cover three common metrics below:\n",
    "  * `Mean Absolute Error`: which provides a mean score for all the predicted versus actual values as an absolute value \n",
    "  * `Means Squared Error`: which provides a mean score for all the predicted versus actual values as a square of the absolute value\n",
    "  * `R2`: which we recommend you research as an exercise to grow your knowledge. WIkipedia and `sklearn` document are a great place to start!"
   ]
  },
  {
   "cell_type": "code",
   "execution_count": 32,
   "metadata": {
    "executionInfo": {
     "elapsed": 1532,
     "status": "ok",
     "timestamp": 1607859857199,
     "user": {
      "displayName": "A J",
      "photoUrl": "https://lh3.googleusercontent.com/a-/AOh14GjZDwFqnFt3HwqF4Wu3Au0RSvls62YjJWudcDUj=s64",
      "userId": "15417262701029927930"
     },
     "user_tz": 0
    },
    "id": "fTmXoHJhRwng"
   },
   "outputs": [],
   "source": [
    "def evaluate(Y_test, Y_pred):\n",
    "    # this block of code returns all the metrics we are interested in \n",
    "    mse = metrics.mean_squared_error(Y_test, Y_pred)\n",
    "    msa = metrics.mean_absolute_error(Y_test, Y_pred)\n",
    "    r2 = metrics.r2_score(Y_test, Y_pred)\n",
    "\n",
    "    print(\"Mean squared error: \", mse)\n",
    "    print(\"Mean absolute error: \", msa)\n",
    "    print(\"R^2 : \", r2)\n",
    "    \n",
    "    # this creates a chart plotting predicted and actual \n",
    "    plt.scatter(Y_test, Y_pred)\n",
    "    plt.xlabel(\"Prices: $Y_i$\")\n",
    "    plt.ylabel(\"Predicted prices: $\\hat{Y}_i$\")\n",
    "    plt.title(\"Prices vs Predicted prices: $Y_i$ vs $\\hat{Y}_i$\")"
   ]
  },
  {
   "cell_type": "code",
   "execution_count": 33,
   "metadata": {
    "colab": {
     "base_uri": "https://localhost:8080/",
     "height": 287
    },
    "executionInfo": {
     "elapsed": 1958,
     "status": "ok",
     "timestamp": 1607859857632,
     "user": {
      "displayName": "A J",
      "photoUrl": "https://lh3.googleusercontent.com/a-/AOh14GjZDwFqnFt3HwqF4Wu3Au0RSvls62YjJWudcDUj=s64",
      "userId": "15417262701029927930"
     },
     "user_tz": 0
    },
    "id": "_Xbr5cSiRwnm",
    "outputId": "d1d2a3b9-30f1-42d4-863e-30af05576100"
   },
   "outputs": [
    {
     "name": "stdout",
     "output_type": "stream",
     "text": [
      "Mean squared error:  14.054498954365062\n",
      "Mean absolute error:  2.7689457931357526\n",
      "R^2 :  0.7772335179847554\n"
     ]
    },
    {
     "data": {
      "image/png": "[encoded data removed]",
      "text/plain": [
       "<Figure size 432x288 with 1 Axes>"
      ]
     },
     "metadata": {
      "needs_background": "light",
      "tags": []
     },
     "output_type": "display_data"
    }
   ],
   "source": [
    "evaluate(Y_test, Y_pred)"
   ]
  },
  {
   "cell_type": "code",
   "execution_count": 34,
   "metadata": {
    "colab": {
     "base_uri": "https://localhost:8080/"
    },
    "executionInfo": {
     "elapsed": 1953,
     "status": "ok",
     "timestamp": 1607859857633,
     "user": {
      "displayName": "A J",
      "photoUrl": "https://lh3.googleusercontent.com/a-/AOh14GjZDwFqnFt3HwqF4Wu3Au0RSvls62YjJWudcDUj=s64",
      "userId": "15417262701029927930"
     },
     "user_tz": 0
    },
    "id": "YpUl5scCKZ3o",
    "outputId": "de44c9e8-1be8-4f2c-dafc-b183237728a4"
   },
   "outputs": [
    {
     "data": {
      "text/plain": [
       "array([1.41315575e+01, 2.89814207e+00, 5.51587343e+00, 8.30440252e-01,\n",
       "       3.24814672e-01, 7.48417502e-01, 7.93048129e+00, 6.24943461e+00,\n",
       "       3.70911373e+00, 3.40301311e+00, 1.09067045e+00, 8.45446293e-01,\n",
       "       2.02032429e+00, 5.65283519e+00, 3.93859425e+00, 4.45945796e+00,\n",
       "       1.48895175e+00, 1.74224903e+00, 7.75178395e-01, 1.22084735e+00,\n",
       "       7.88804330e-01, 3.59669325e+00, 4.95846329e-01, 2.46884717e+00,\n",
       "       2.94070872e+00, 1.40441273e-01, 7.02552144e-01, 7.75182825e+00,\n",
       "       1.01342502e+00, 6.68812027e+00, 3.41746380e+00, 2.68045044e+00,\n",
       "       2.08196922e+00, 4.32100803e+00, 2.48849607e+00, 5.08218663e+00,\n",
       "       2.38621708e+00, 1.21278928e+00, 2.02511212e+00, 4.12143291e-01,\n",
       "       2.96455082e-01, 4.14456642e-01, 2.10383739e-04, 1.34898797e+00,\n",
       "       3.51372181e+00, 3.01208347e+00, 4.53303812e-01, 4.60385111e-01,\n",
       "       7.43447384e-01, 6.13819474e+00, 2.07869960e+00, 4.86379726e+00,\n",
       "       3.22627051e+00, 1.02284513e+01, 1.43955576e+00, 3.17514607e+00,\n",
       "       2.31084441e+00, 5.56734334e-01, 3.19641063e+00, 2.89728623e+00,\n",
       "       9.04077135e-01, 1.96596157e-01, 1.06389585e+01, 2.81641682e+00,\n",
       "       2.97468506e+00, 2.89790900e-01, 2.85109980e+00, 3.56053353e-01,\n",
       "       2.28611272e-01, 5.57372182e+00, 3.59162303e+00, 1.54686757e+00,\n",
       "       1.43779539e+00, 1.43996353e+00, 9.51050994e-02, 2.71133067e+00,\n",
       "       5.70336647e+00, 3.20614745e+00, 6.23852889e-01, 4.77463658e-01,\n",
       "       6.57962901e+00, 5.46830069e+00, 1.09936392e+00, 1.51088274e+00,\n",
       "       4.60128087e-01, 6.13241790e+00, 1.35349882e+00, 4.36492268e+00,\n",
       "       3.81698905e+00, 1.63707952e+00, 2.72944220e+00, 2.63396441e+00,\n",
       "       1.46233966e+00, 1.34303096e+00])"
      ]
     },
     "execution_count": 34,
     "metadata": {
      "tags": []
     },
     "output_type": "execute_result"
    }
   ],
   "source": [
    "# we can explore how metrics are dervied in a little more detail by looking at MAE\n",
    "# here we will implement MAE using numpy, building it up step by step\n",
    "\n",
    "# with MAE, we get the absolute values of the error - as you can see this is of the difference between the actual and predicted values\n",
    "np.abs(Y_test - Y_pred)"
   ]
  },
  {
   "cell_type": "code",
   "execution_count": 35,
   "metadata": {
    "colab": {
     "base_uri": "https://localhost:8080/"
    },
    "executionInfo": {
     "elapsed": 1949,
     "status": "ok",
     "timestamp": 1607859857635,
     "user": {
      "displayName": "A J",
      "photoUrl": "https://lh3.googleusercontent.com/a-/AOh14GjZDwFqnFt3HwqF4Wu3Au0RSvls62YjJWudcDUj=s64",
      "userId": "15417262701029927930"
     },
     "user_tz": 0
    },
    "id": "vYIgygxBK9tZ",
    "outputId": "f4041ad1-286b-4e78-d056-eb3c6c608b21"
   },
   "outputs": [
    {
     "data": {
      "text/plain": [
       "260.28090455476075"
      ]
     },
     "execution_count": 35,
     "metadata": {
      "tags": []
     },
     "output_type": "execute_result"
    }
   ],
   "source": [
    "# we will then sum them up \n",
    "np.sum(np.abs(Y_test - Y_pred))"
   ]
  },
  {
   "cell_type": "code",
   "execution_count": 36,
   "metadata": {
    "colab": {
     "base_uri": "https://localhost:8080/"
    },
    "executionInfo": {
     "elapsed": 1943,
     "status": "ok",
     "timestamp": 1607859857636,
     "user": {
      "displayName": "A J",
      "photoUrl": "https://lh3.googleusercontent.com/a-/AOh14GjZDwFqnFt3HwqF4Wu3Au0RSvls62YjJWudcDUj=s64",
      "userId": "15417262701029927930"
     },
     "user_tz": 0
    },
    "id": "5gByAtaoLHsP",
    "outputId": "bfc015b5-46bc-4bc0-f710-68a95026d520"
   },
   "outputs": [
    {
     "data": {
      "text/plain": [
       "2.7689457931357526"
      ]
     },
     "execution_count": 36,
     "metadata": {
      "tags": []
     },
     "output_type": "execute_result"
    }
   ],
   "source": [
    "# then divide by the total number of predictions/actual values\n",
    "# as you will see, we get to the same score implemented above \n",
    "np.sum(np.abs(Y_test - Y_pred))/len(Y_test)"
   ]
  },
  {
   "cell_type": "markdown",
   "metadata": {
    "id": "ZIr3bAQgRwnp"
   },
   "source": [
    "### Step 7: Refine our dataset\n",
    "* This step allows us to add or modify features of the datatset. We might do this if, for example, some combination of features better represents the problems space and so is an indicator of the target variable. \n",
    "* Here, we create one additional feature as an example, but you should reflect on our EDA earlier and see whether there are other features that can be added to our dataset."
   ]
  },
  {
   "cell_type": "code",
   "execution_count": 37,
   "metadata": {
    "executionInfo": {
     "elapsed": 1938,
     "status": "ok",
     "timestamp": 1607859857637,
     "user": {
      "displayName": "A J",
      "photoUrl": "https://lh3.googleusercontent.com/a-/AOh14GjZDwFqnFt3HwqF4Wu3Au0RSvls62YjJWudcDUj=s64",
      "userId": "15417262701029927930"
     },
     "user_tz": 0
    },
    "id": "hI83luYSRwnq"
   },
   "outputs": [],
   "source": [
    "# here we are using pandas functionality to add a new column called LSTAT_2, which will feature values that are the square of LSTAT values\n",
    "boston_X['LSTAT_2'] = boston_X['LSTAT'].map(lambda x: x**2)"
   ]
  },
  {
   "cell_type": "code",
   "execution_count": 38,
   "metadata": {
    "colab": {
     "base_uri": "https://localhost:8080/"
    },
    "executionInfo": {
     "elapsed": 1933,
     "status": "ok",
     "timestamp": 1607859857638,
     "user": {
      "displayName": "A J",
      "photoUrl": "https://lh3.googleusercontent.com/a-/AOh14GjZDwFqnFt3HwqF4Wu3Au0RSvls62YjJWudcDUj=s64",
      "userId": "15417262701029927930"
     },
     "user_tz": 0
    },
    "id": "Md4DGMgARwnr",
    "outputId": "1a9e500a-3b33-4f7c-bb23-8a7638dcfb9f"
   },
   "outputs": [
    {
     "name": "stdout",
     "output_type": "stream",
     "text": [
      "Number of features after Step 7:  13\n"
     ]
    }
   ],
   "source": [
    "# we can run our train_test_split function and see that we have an additional features\n",
    "X_train, X_test, Y_train, Y_test = model_selection.train_test_split(boston_X, boston_y, test_size = 0.2, random_state = 5)\n",
    "\n",
    "print('Number of features after Step 7: ', X_train.shape[1])"
   ]
  },
  {
   "cell_type": "code",
   "execution_count": 39,
   "metadata": {
    "colab": {
     "base_uri": "https://localhost:8080/",
     "height": 287
    },
    "executionInfo": {
     "elapsed": 1929,
     "status": "ok",
     "timestamp": 1607859857640,
     "user": {
      "displayName": "A J",
      "photoUrl": "https://lh3.googleusercontent.com/a-/AOh14GjZDwFqnFt3HwqF4Wu3Au0RSvls62YjJWudcDUj=s64",
      "userId": "15417262701029927930"
     },
     "user_tz": 0
    },
    "id": "6hdKb4pDRwnu",
    "outputId": "c04ab7bc-0a7b-4228-ebc2-8b8bb58b135f"
   },
   "outputs": [
    {
     "name": "stdout",
     "output_type": "stream",
     "text": [
      "Mean squared error:  14.192521798416406\n",
      "Mean absolute error:  2.9043998296716462\n",
      "R^2 :  0.775045829650444\n"
     ]
    },
    {
     "data": {
      "image/png": "[encoded data removed]",
      "text/plain": [
       "<Figure size 432x288 with 1 Axes>"
      ]
     },
     "metadata": {
      "needs_background": "light",
      "tags": []
     },
     "output_type": "display_data"
    }
   ],
   "source": [
    "# we can now run the same code as before on our refined dataset to see if things have improved \n",
    "lm.fit(X_train, Y_train)\n",
    "\n",
    "Y_pred = lm.predict(X_test)\n",
    "\n",
    "evaluate(Y_test, Y_pred)"
   ]
  },
  {
   "cell_type": "markdown",
   "metadata": {
    "id": "EXiqclcVRwnx"
   },
   "source": [
    "### Step 8: Test Alternative Models\n",
    "* Once we got a nice baseline model working for this dataset, we also can try something more sophisticated and rather different, e.g. RandomForest Regressor. So, let's do so and also evaluate the result."
   ]
  },
  {
   "cell_type": "code",
   "execution_count": 40,
   "metadata": {
    "executionInfo": {
     "elapsed": 2308,
     "status": "ok",
     "timestamp": 1607859858026,
     "user": {
      "displayName": "A J",
      "photoUrl": "https://lh3.googleusercontent.com/a-/AOh14GjZDwFqnFt3HwqF4Wu3Au0RSvls62YjJWudcDUj=s64",
      "userId": "15417262701029927930"
     },
     "user_tz": 0
    },
    "id": "XZ4e0MnYRwnz"
   },
   "outputs": [],
   "source": [
    "# as you can see, its very similar code to instantiate the model\n",
    "# we are able to pass in additional parameters as the model is created, so optionally you can view the documentation and play with these values\n",
    "\n",
    "rfr = RandomForestRegressor()\n",
    "rfr.fit(X_train, Y_train)\n",
    "Y_pred = rfr.predict(X_test)"
   ]
  },
  {
   "cell_type": "code",
   "execution_count": 41,
   "metadata": {
    "colab": {
     "base_uri": "https://localhost:8080/",
     "height": 287
    },
    "executionInfo": {
     "elapsed": 2305,
     "status": "ok",
     "timestamp": 1607859858030,
     "user": {
      "displayName": "A J",
      "photoUrl": "https://lh3.googleusercontent.com/a-/AOh14GjZDwFqnFt3HwqF4Wu3Au0RSvls62YjJWudcDUj=s64",
      "userId": "15417262701029927930"
     },
     "user_tz": 0
    },
    "id": "TggniO1ARwn1",
    "outputId": "44410454-0e0f-4867-b702-5054f94b1dd8"
   },
   "outputs": [
    {
     "name": "stdout",
     "output_type": "stream",
     "text": [
      "Mean squared error:  7.603774925531919\n",
      "Mean absolute error:  1.8371170212765957\n",
      "R^2 :  0.8794787209635537\n"
     ]
    },
    {
     "data": {
      "image/png": "[encoded data removed]",
      "text/plain": [
       "<Figure size 432x288 with 1 Axes>"
      ]
     },
     "metadata": {
      "needs_background": "light",
      "tags": []
     },
     "output_type": "display_data"
    }
   ],
   "source": [
    "evaluate(Y_test, Y_pred)"
   ]
  },
  {
   "cell_type": "markdown",
   "metadata": {
    "id": "l3XppAfmRwn6"
   },
   "source": [
    "### Step 9: Choose the best model and optimise its parameters\n",
    "* We can see that we have improved our model as we have added features and trained new models.\n",
    "* At the point that we feel comfortable with a good model, we can start to tune the parameters of the model.\n",
    "* There are a number of ways to do this, and a common way is shown below"
   ]
  },
  {
   "cell_type": "code",
   "execution_count": 42,
   "metadata": {
    "executionInfo": {
     "elapsed": 2300,
     "status": "ok",
     "timestamp": 1607859858032,
     "user": {
      "displayName": "A J",
      "photoUrl": "https://lh3.googleusercontent.com/a-/AOh14GjZDwFqnFt3HwqF4Wu3Au0RSvls62YjJWudcDUj=s64",
      "userId": "15417262701029927930"
     },
     "user_tz": 0
    },
    "id": "NZOHs6GtRwn7"
   },
   "outputs": [],
   "source": [
    "## grid search is a 'brute force' search, one that will explore every possible combination of parameters that you provide it\n",
    "\n",
    "# we first define the parameters we want to search as a dictionary. Explore the documentation to what other options are avaiable\n",
    "params = {'n_estimators': [100, 200], 'max_depth' : [2, 10, 20]}\n",
    "\n",
    "# we then create a grid search object with our chosen model and paramters. We also use cross validation here - explored more in Day 2\n",
    "grid = model_selection.GridSearchCV(rfr, params, cv=5)"
   ]
  },
  {
   "cell_type": "code",
   "execution_count": 43,
   "metadata": {
    "colab": {
     "base_uri": "https://localhost:8080/"
    },
    "executionInfo": {
     "elapsed": 12085,
     "status": "ok",
     "timestamp": 1607859867823,
     "user": {
      "displayName": "A J",
      "photoUrl": "https://lh3.googleusercontent.com/a-/AOh14GjZDwFqnFt3HwqF4Wu3Au0RSvls62YjJWudcDUj=s64",
      "userId": "15417262701029927930"
     },
     "user_tz": 0
    },
    "id": "JrtZfUzFRwn8",
    "outputId": "20352601-d51e-4a6e-85ab-dc0337d64567"
   },
   "outputs": [
    {
     "data": {
      "text/plain": [
       "GridSearchCV(cv=5, error_score=nan,\n",
       "             estimator=RandomForestRegressor(bootstrap=True, ccp_alpha=0.0,\n",
       "                                             criterion='mse', max_depth=None,\n",
       "                                             max_features='auto',\n",
       "                                             max_leaf_nodes=None,\n",
       "                                             max_samples=None,\n",
       "                                             min_impurity_decrease=0.0,\n",
       "                                             min_impurity_split=None,\n",
       "                                             min_samples_leaf=1,\n",
       "                                             min_samples_split=2,\n",
       "                                             min_weight_fraction_leaf=0.0,\n",
       "                                             n_estimators=100, n_jobs=None,\n",
       "                                             oob_score=False, random_state=None,\n",
       "                                             verbose=0, warm_start=False),\n",
       "             iid='deprecated', n_jobs=None,\n",
       "             param_grid={'max_depth': [2, 10, 20], 'n_estimators': [100, 200]},\n",
       "             pre_dispatch='2*n_jobs', refit=True, return_train_score=False,\n",
       "             scoring=None, verbose=0)"
      ]
     },
     "execution_count": 43,
     "metadata": {
      "tags": []
     },
     "output_type": "execute_result"
    }
   ],
   "source": [
    "# we fit our model to the data as before\n",
    "grid.fit(X_train, Y_train)"
   ]
  },
  {
   "cell_type": "code",
   "execution_count": 44,
   "metadata": {
    "executionInfo": {
     "elapsed": 12082,
     "status": "ok",
     "timestamp": 1607859867827,
     "user": {
      "displayName": "A J",
      "photoUrl": "https://lh3.googleusercontent.com/a-/AOh14GjZDwFqnFt3HwqF4Wu3Au0RSvls62YjJWudcDUj=s64",
      "userId": "15417262701029927930"
     },
     "user_tz": 0
    },
    "id": "O9br0prXRwn_"
   },
   "outputs": [],
   "source": [
    "# one output of the grid search function is that we can get the best_estimator - the model and parameters that scored best on the training data - \n",
    "#  and save it as a new a model\n",
    "best_model = grid.best_estimator_"
   ]
  },
  {
   "cell_type": "code",
   "execution_count": 45,
   "metadata": {
    "colab": {
     "base_uri": "https://localhost:8080/",
     "height": 287
    },
    "executionInfo": {
     "elapsed": 12074,
     "status": "ok",
     "timestamp": 1607859867829,
     "user": {
      "displayName": "A J",
      "photoUrl": "https://lh3.googleusercontent.com/a-/AOh14GjZDwFqnFt3HwqF4Wu3Au0RSvls62YjJWudcDUj=s64",
      "userId": "15417262701029927930"
     },
     "user_tz": 0
    },
    "id": "mmhIn9y3RwoB",
    "outputId": "0f954059-80ab-4c8e-a67a-45833517e9d5"
   },
   "outputs": [
    {
     "name": "stdout",
     "output_type": "stream",
     "text": [
      "Mean squared error:  7.860053954565612\n",
      "Mean absolute error:  1.8505097517730507\n",
      "R^2 :  0.8754166496013878\n"
     ]
    },
    {
     "data": {
      "image/png": "[encoded data removed]",
      "text/plain": [
       "<Figure size 432x288 with 1 Axes>"
      ]
     },
     "metadata": {
      "needs_background": "light",
      "tags": []
     },
     "output_type": "display_data"
    }
   ],
   "source": [
    "# and use it to predict and evaluate as before\n",
    "Y_pred = best_model.predict(X_test)\n",
    "\n",
    "evaluate(Y_test, Y_pred)"
   ]
  },
  {
   "cell_type": "markdown",
   "metadata": {
    "id": "NrfGQPgLRBEd"
   },
   "source": [
    "### NEXT STEPS: \n",
    "* As you can see, we have been able to try new models fairly easily and to see improvements in the evaluation metrics we have chosen. \n",
    "* If you have the opportunity, try the following:\n",
    "  * implement new models using the code structure above. Look at the `sklearn` documentation for different options\n",
    "  * explore the parameters of the different models 'by hand' (i.e. instantiate models with different parameters) and by using `GridSearchCV`\n",
    "* Develop new features for the dataset by reflecting on the EDA and determining if they might better reflect the problem we are trying to solve"
   ]
  }
 ],
 "metadata": {
  "accelerator": "GPU",
  "colab": {
   "collapsed_sections": [],
   "name": "Oxford_End_to_End_Regression.ipynb",
   "provenance": []
  },
  "kernelspec": {
   "display_name": "Python 3",
   "language": "python",
   "name": "python3"
  },
  "language_info": {
   "codemirror_mode": {
    "name": "ipython",
    "version": 3
   },
   "file_extension": ".py",
   "mimetype": "text/x-python",
   "name": "python",
   "nbconvert_exporter": "python",
   "pygments_lexer": "ipython3",
   "version": "3.8.8"
  }
 },
 "nbformat": 4,
 "nbformat_minor": 1
}
