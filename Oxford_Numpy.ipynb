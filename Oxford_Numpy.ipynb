{
 "cells": [
  {
   "cell_type": "markdown",
   "metadata": {
    "id": "view-in-github"
   },
   "source": [
    "<a href=\"https://colab.research.google.com/github/DanRHowarth/Artificial-Intelligence-Cloud-and-Edge-Implementations/blob/master/Oxford_Numpy.ipynb\" target=\"_parent\"><img src=\"https://colab.research.google.com/assets/colab-badge.svg\" alt=\"Open In Colab\"/></a>"
   ]
  },
  {
   "cell_type": "markdown",
   "metadata": {
    "id": "3KIiXVqiex-8"
   },
   "source": [
    "# Numpy Tutorial"
   ]
  },
  {
   "cell_type": "markdown",
   "metadata": {
    "id": "5QVOlDnXe7hK"
   },
   "source": [
    "### This tutorial covers the following:\n",
    " 1. Overview of Numpy \n",
    " 2. Introduction to Numpy Arrays\n",
    "   *  Creating arrays \n",
    "   *  Locating elements of an array \n",
    "   *  Altering properties of an array, including it's `shape` and `datatype`\n",
    " 3. Performing operations on Arrays\n",
    "  * Arithmetic operations\n",
    "  * Boolean Operations \n",
    "  * Universal functions\n",
    " \n",
    "#### Exercises\n",
    " * Each section will have an exercise to help reinforce your learning. We suggest you:\n",
    "   * Write out each line of code by hand (rather than copy and paste it from the relevant example) - this will improve your understanding of code syntax\n",
    "   * Write out, above each line of code, an explanation as to what the code, using a comment `#` - this will improve your understanding of how the code works"
   ]
  },
  {
   "cell_type": "markdown",
   "metadata": {
    "id": "jxFeWxklf9Du"
   },
   "source": [
    "### 1. Overview of Numpy\n",
    "\n",
    "\n",
    "* [Python for Data Analysis](https://www.amazon.co.uk/Python-Data-Analysis-Wrangling-IPython-ebook/dp/B075X4LT6K/ref=sr_1_1?s=digital-text&ie=UTF8&qid=1540755909&sr=1-1&keywords=python+for+data+analysis ) sets out the following benefits of the Numpy library: \n",
    "\n",
    "  * the `ndarray`, is an efficient multidimensional array providing fast array-oriented arithmetic operations and flexible broadcasting capabilities.\n",
    "\n",
    "  * Mathematical functions for fast operations on entire arrays of data without having to write loops.\n",
    "\n",
    "  * Tools for reading/writing array data to disk and working with memory-mapped files.\n",
    "\n",
    "  * Linear algebra, random number generation, and Fourier transform capabilities.\n",
    "\n",
    "\n",
    "* It is designed for efficiency on large arrays of data because it internally stores data in a contiguous block of memory, independent of other built-in Python objects. Numpy operations perform complex computations on entire arrays without the need for Python for loops.\n",
    "\n",
    "* See *Python for Data Analysis*, or [Python Data Science Handbook](https://jakevdp.github.io/PythonDataScienceHandbook/) (free) for more background on the library and its benefits.\n"
   ]
  },
  {
   "cell_type": "code",
   "execution_count": 2,
   "metadata": {
    "id": "qDS8J9qdhmAJ"
   },
   "outputs": [],
   "source": [
    "## this simple example will demonstrate the difference in efficiency between numpy and python \n",
    "\n",
    "# it is convention to import numpy this way\n",
    "import numpy as np\n",
    "\n",
    "# we create our first numpy array - we will come back to this type of operation later \n",
    "my_arr = np.arange(1000000)\n",
    "\n",
    "# create a python list with the same values, but this is obviously not stored as a numpy array\n",
    "my_list = list(range(1000000))"
   ]
  },
  {
   "cell_type": "code",
   "execution_count": 3,
   "metadata": {
    "id": "ijRQnOpgh_df"
   },
   "outputs": [
    {
     "name": "stdout",
     "output_type": "stream",
     "text": [
      "Wall time: 967 µs\n"
     ]
    }
   ],
   "source": [
    "## let's time how long an operation takes in numpy\n",
    "%time my_arr2 = my_arr * 2"
   ]
  },
  {
   "cell_type": "code",
   "execution_count": 4,
   "metadata": {
    "id": "xJRUSo4FPcmC"
   },
   "outputs": [
    {
     "name": "stdout",
     "output_type": "stream",
     "text": [
      "Wall time: 68.8 ms\n"
     ]
    }
   ],
   "source": [
    "# and compare it to the same operation in python\n",
    "%time my_list2 = [x * 2 for x in my_list]"
   ]
  },
  {
   "cell_type": "markdown",
   "metadata": {
    "id": "2zqt3F1GiEi6"
   },
   "source": [
    "### 2. Introduction to Numpy Arrays\n",
    "\n",
    "* The *N-dimensional array object*, or `ndarray`, is a fast, flexible container for large datasets in Python. Arrays enable you to perform mathematical operations on whole blocks of data using similar syntax to the equivalent operations between scalar elements.\n",
    "* In this section, we will cover:\n",
    "  * How to create arrays\n",
    "  * How to access different parts of the array \n",
    "  * The properties of arrays, and how to modify them."
   ]
  },
  {
   "cell_type": "markdown",
   "metadata": {
    "id": "LVNOHN7hifnc"
   },
   "source": [
    "#### 2.1 Creating arrays\n",
    "* There are a number of different ways to create an array. We cover some of the main ways here, including:\n",
    "  * passing in values to the parameters of `np.array`\n",
    "  * `zeroes`: an array of zero values \n",
    "  * `ones`: an array of all ones \n",
    "  * `full`: an array of a specified constant value \n",
    "  * `random`: an array of random values\n",
    "  * `eye`: an array with ones on the diagonal and zeroes otherwise\n",
    "  * converting from a python list to a numpy array\n",
    "  * `arange`: an array with values within the range specified \n",
    "  * `linspace`: an array of equally spaced values within the upper and lower bounds specified\n",
    "  * `from pandas`\n",
    " \n"
   ]
  },
  {
   "cell_type": "code",
   "execution_count": 5,
   "metadata": {
    "id": "5onuLDx6ZLLe"
   },
   "outputs": [
    {
     "data": {
      "text/plain": [
       "array([0, 1, 2])"
      ]
     },
     "execution_count": 5,
     "metadata": {},
     "output_type": "execute_result"
    }
   ],
   "source": [
    "# Create an array by passing in values  \n",
    "a = np.array([0, 1, 2]) \n",
    "a"
   ]
  },
  {
   "cell_type": "code",
   "execution_count": 6,
   "metadata": {
    "id": "5UYT_-vyh6Mn"
   },
   "outputs": [
    {
     "data": {
      "text/plain": [
       "array([[0, 1, 2],\n",
       "       [3, 4, 5]])"
      ]
     },
     "execution_count": 6,
     "metadata": {},
     "output_type": "execute_result"
    }
   ],
   "source": [
    "# Create a 2D array\n",
    "b = np.array([[0,1,2],[3,4,5]])  \n",
    "b"
   ]
  },
  {
   "cell_type": "code",
   "execution_count": 7,
   "metadata": {
    "id": "3vb8RDjrwClW"
   },
   "outputs": [
    {
     "data": {
      "text/plain": [
       "array([[0., 0., 0.],\n",
       "       [0., 0., 0.],\n",
       "       [0., 0., 0.]])"
      ]
     },
     "execution_count": 7,
     "metadata": {},
     "output_type": "execute_result"
    }
   ],
   "source": [
    "# Create an array of all zeros - with three rows of three columns each \n",
    "c = np.zeros((3,3)) \n",
    "c"
   ]
  },
  {
   "cell_type": "code",
   "execution_count": 8,
   "metadata": {
    "id": "PzuRFsCAwYUx"
   },
   "outputs": [
    {
     "data": {
      "text/plain": [
       "array([[1., 1.],\n",
       "       [1., 1.]])"
      ]
     },
     "execution_count": 8,
     "metadata": {},
     "output_type": "execute_result"
    }
   ],
   "source": [
    "# Create a 2x2 array of all ones\n",
    "d = np.ones((2,2)) \n",
    "d"
   ]
  },
  {
   "cell_type": "code",
   "execution_count": 9,
   "metadata": {
    "id": "XxYqqjMkxJYI"
   },
   "outputs": [
    {
     "data": {
      "text/plain": [
       "array([[7, 7, 7],\n",
       "       [7, 7, 7],\n",
       "       [7, 7, 7]])"
      ]
     },
     "execution_count": 9,
     "metadata": {},
     "output_type": "execute_result"
    }
   ],
   "source": [
    "# Create a 3x3 constant array\n",
    "e = np.full((3,3), 7) \n",
    "e"
   ]
  },
  {
   "cell_type": "code",
   "execution_count": 10,
   "metadata": {
    "id": "REEwBbVBXx1X"
   },
   "outputs": [
    {
     "data": {
      "text/plain": [
       "array([[0.96394811, 0.46181101, 0.36367464],\n",
       "       [0.17284085, 0.39956693, 0.69150719],\n",
       "       [0.74397301, 0.81182609, 0.79654595]])"
      ]
     },
     "execution_count": 10,
     "metadata": {},
     "output_type": "execute_result"
    }
   ],
   "source": [
    "# Create a 3x3 array filled with random values\n",
    "f = np.random.random((3,3)) \n",
    "f"
   ]
  },
  {
   "cell_type": "code",
   "execution_count": 11,
   "metadata": {
    "id": "zNisQgDpYMPD"
   },
   "outputs": [
    {
     "data": {
      "text/plain": [
       "array([[1., 0., 0.],\n",
       "       [0., 1., 0.],\n",
       "       [0., 0., 1.]])"
      ]
     },
     "execution_count": 11,
     "metadata": {},
     "output_type": "execute_result"
    }
   ],
   "source": [
    "# Create a 3x3 matrix with ones on the diagonal \n",
    "# np.identity also returns the same result \n",
    "g = np.eye(3)    \n",
    "g"
   ]
  },
  {
   "cell_type": "code",
   "execution_count": 12,
   "metadata": {
    "id": "GRs_J9kzYTuq"
   },
   "outputs": [
    {
     "data": {
      "text/plain": [
       "array([2, 3, 1, 0])"
      ]
     },
     "execution_count": 12,
     "metadata": {},
     "output_type": "execute_result"
    }
   ],
   "source": [
    "# convert list to array\n",
    "h = list((2, 3, 1, 0))\n",
    "h = np.array(h) \n",
    "h"
   ]
  },
  {
   "cell_type": "code",
   "execution_count": 13,
   "metadata": {
    "id": "Eka1O6M6Yotd"
   },
   "outputs": [
    {
     "data": {
      "text/plain": [
       "array([ 0,  1,  2,  3,  4,  5,  6,  7,  8,  9, 10, 11, 12, 13, 14, 15, 16,\n",
       "       17, 18, 19])"
      ]
     },
     "execution_count": 13,
     "metadata": {},
     "output_type": "execute_result"
    }
   ],
   "source": [
    "# arange() will create arrays with regularly incrementing values\n",
    "i = np.arange(20)\n",
    "i"
   ]
  },
  {
   "cell_type": "code",
   "execution_count": 14,
   "metadata": {
    "id": "PNZkdxria_7v"
   },
   "outputs": [
    {
     "data": {
      "text/plain": [
       "array([2. , 2.5, 3. , 3.5, 4. ])"
      ]
     },
     "execution_count": 14,
     "metadata": {},
     "output_type": "execute_result"
    }
   ],
   "source": [
    "# linspace() will create arrays with a specified number of items which are \n",
    "# spaced equally between the specified beginning and end values\n",
    "j = np.linspace(2., 4., 5)\n",
    "j"
   ]
  },
  {
   "cell_type": "code",
   "execution_count": 15,
   "metadata": {
    "id": "bXfYp0ZCkK8R"
   },
   "outputs": [
    {
     "data": {
      "text/plain": [
       "array([[21, 72, 67],\n",
       "       [23, 78, 69],\n",
       "       [32, 74, 56],\n",
       "       [52, 54, 76]], dtype=int64)"
      ]
     },
     "execution_count": 15,
     "metadata": {},
     "output_type": "execute_result"
    }
   ],
   "source": [
    "## Create an array from a pandas dataframe\n",
    "\n",
    "# import pandas\n",
    "import pandas as pd\n",
    "\n",
    "#initialize a dataframe\n",
    "df = pd.DataFrame(\n",
    "\t[[21, 72, 67],\n",
    "\t[23, 78, 69],\n",
    "\t[32, 74, 56],\n",
    "\t[52, 54, 76]],\n",
    "\tcolumns=['a', 'b', 'c'])\n",
    "\n",
    "# use .to_numpy() to convert a dataframe to a numpy array\n",
    "df.to_numpy()"
   ]
  },
  {
   "cell_type": "markdown",
   "metadata": {
    "id": "fTAItFP0XvDi"
   },
   "source": [
    "#### EXERCISE 2.1: Creating an array\n",
    "* Create an array using the `np.arange()` function. \n",
    "* Use the [documentation](https://docs.scipy.org/doc/numpy-1.15.0/reference/generated/numpy.arange.html) to add start, stop and step parameters "
   ]
  },
  {
   "cell_type": "code",
   "execution_count": 16,
   "metadata": {
    "id": "uKy7AZ_XYuP5"
   },
   "outputs": [
    {
     "data": {
      "text/plain": [
       "array([ 3,  6,  9, 12, 15, 18, 21, 24, 27, 30, 33, 36, 39, 42, 45, 48, 51,\n",
       "       54, 57, 60, 63, 66])"
      ]
     },
     "execution_count": 16,
     "metadata": {},
     "output_type": "execute_result"
    }
   ],
   "source": [
    "## EXERCISE CODE HERE\n",
    "arr = np.arange(3, 69, 3)\n",
    "arr\n"
   ]
  },
  {
   "cell_type": "markdown",
   "metadata": {
    "id": "z0YAQvcSSV5M"
   },
   "source": [
    "#### 2.2 Accessing arrays\n",
    "\n",
    "* The elements of numpy arrays can be accessed using their index. Numpy (and Pandas) refers to elements *along* the rows as being on `axis 1`, and elements *down* the rows as being on `axis 0`. This is set out below:\n",
    "\n",
    "![alt text](https://www.safaribooksonline.com/library/view/python-for-data/9781491957653/assets/pyda_0401.png)\n",
    "\n",
    "* Indexing a 1D array is relatively straightforward as the index values are all on the same axis.\n",
    "* Indexing a 2D array (or higher dimensions) is slightly trickier, as we need to access `axis 0` first, and then `axis 1`. In other words, we access rows, and then columns when indexing 2D arrays.\n",
    "* Note that Python indexing starts with the first value being indexed as 0.\n",
    "* The examples below should make this a little clearer. \n"
   ]
  },
  {
   "cell_type": "code",
   "execution_count": 17,
   "metadata": {
    "id": "LzmzbGQCUaTt"
   },
   "outputs": [
    {
     "name": "stdout",
     "output_type": "stream",
     "text": [
      "1D array:\n",
      " [0 1 2]\n",
      "\n",
      "Dimensions of array:  (3,)\n",
      "\n",
      "First element of array:  0\n",
      "\n",
      "Second element of array:  1\n",
      "\n",
      "Third element of array:  2\n"
     ]
    }
   ],
   "source": [
    "# lets go back to on the first array we created\n",
    "print(\"1D array:\\n\", a)\n",
    "\n",
    "# we can access the shape of the array like this\n",
    "print(\"\\nDimensions of array: \", a.shape)\n",
    "\n",
    "# and call the individual elements of the array using the element's index\n",
    "print(\"\\nFirst element of array: \", a[0])\n",
    "print(\"\\nSecond element of array: \", a[1])\n",
    "print(\"\\nThird element of array: \", a[2])"
   ]
  },
  {
   "cell_type": "code",
   "execution_count": 18,
   "metadata": {
    "id": "HCSWw_djU_VN"
   },
   "outputs": [
    {
     "name": "stdout",
     "output_type": "stream",
     "text": [
      "2D array:\n",
      " [[0 1 2]\n",
      " [3 4 5]]\n",
      "\n",
      "Dimensions of 2D array:  (2, 3)\n",
      "\n",
      "Array element [0,0]: 0\n",
      "\n",
      "Array elements [1,2] [0,1] [1,0]:  5 1 3\n"
     ]
    }
   ],
   "source": [
    "# lets compare this to a 2D array\n",
    "print(\"2D array:\\n\", b)\n",
    "\n",
    "# and contrast the shape of this array with the shape of a\n",
    "print(\"\\nDimensions of 2D array: \", b.shape)\n",
    "\n",
    "# pause and make sure you understand how the values are being accessed\n",
    "print(\"\\nArray element [0,0]:\", b[0, 0])\n",
    "print(\"\\nArray elements [1,2] [0,1] [1,0]: \", b[1, 2], b[0, 1], b[1, 0])"
   ]
  },
  {
   "cell_type": "code",
   "execution_count": 19,
   "metadata": {
    "id": "XAS6j6-omJ58"
   },
   "outputs": [
    {
     "data": {
      "text/plain": [
       "array([1, 2])"
      ]
     },
     "execution_count": 19,
     "metadata": {},
     "output_type": "execute_result"
    }
   ],
   "source": [
    "# We can also slice arrays, using the following approach:\n",
    "\n",
    "# a[start:end] # items start through to end-1\n",
    "# a[start:]    # items start through the rest of the array\n",
    "# a[:end]      # items from the beginning through to end-1\n",
    "# a[:]         # a copy of the whole array\n",
    "\n",
    "\n",
    "# The key point to remember is that the :end value represents the first value that is not in the selected slice. So, the difference \n",
    "# beween end and start is the number of elements selected (if the step is 1, the default).\n",
    "# The other feature is that start or end may be a negative number, which means it counts from the end of the array \n",
    "# instead of the beginning. The indexing is reversed when a negative number is used. So:\n",
    "\n",
    "# a[-1]    # last item in the array\n",
    "# a[-2:]   # last two items in the array\n",
    "# a[:-2]   # everything except the last two items\n",
    "\n",
    "# create a new array\n",
    "k = np.array([1,2,3,4])\n",
    "\n",
    "# access the first two elements\n",
    "k[0:2]"
   ]
  },
  {
   "cell_type": "code",
   "execution_count": 20,
   "metadata": {
    "id": "PIW3JAOwjsjA"
   },
   "outputs": [
    {
     "data": {
      "text/plain": [
       "array([ 9, 10, 11, 12])"
      ]
     },
     "execution_count": 20,
     "metadata": {},
     "output_type": "execute_result"
    }
   ],
   "source": [
    "# higher dimension slicing \n",
    "j = np.array([[1,2,3,4], [5,6,7,8], [9,10,11,12]])\n",
    "\n",
    "# access one row of the array\n",
    "j[2]"
   ]
  },
  {
   "cell_type": "code",
   "execution_count": 21,
   "metadata": {
    "id": "aq15Uy1RnmCY"
   },
   "outputs": [
    {
     "data": {
      "text/plain": [
       "array([ 9, 10])"
      ]
     },
     "execution_count": 21,
     "metadata": {},
     "output_type": "execute_result"
    }
   ],
   "source": [
    "# access values within one row - note that we can also express this as j[2][:2]\n",
    "j[2,:2]"
   ]
  },
  {
   "cell_type": "code",
   "execution_count": 22,
   "metadata": {
    "id": "fuvVu0SxoLNX"
   },
   "outputs": [
    {
     "data": {
      "text/plain": [
       "array([[ 1,  2],\n",
       "       [ 5,  6],\n",
       "       [ 9, 10]])"
      ]
     },
     "execution_count": 22,
     "metadata": {},
     "output_type": "execute_result"
    }
   ],
   "source": [
    "# access all the rows (axis 0) and two of the columns (axis 1)\n",
    "j[:,:2]"
   ]
  },
  {
   "cell_type": "markdown",
   "metadata": {
    "id": "uRbSFcl7r6ot"
   },
   "source": [
    "#### EXERCISE 2.2: Accessing Arrays \n",
    "* Create a 2D array using one of the methods from section 2.1\n",
    "* Create a new variable containing a slice of the original array\n",
    "* Replace one of the values of the sliced array using the following template:\n",
    "  * `array_slice[index_value] = new_value`\n",
    "* Call the original 2D array and notice if the new_value has been updated  "
   ]
  },
  {
   "cell_type": "code",
   "execution_count": 23,
   "metadata": {
    "id": "z-vUF1Fus2kC"
   },
   "outputs": [
    {
     "data": {
      "text/plain": [
       "array([[ 3,  6,  9, 12, 15, 18, 21, 24, 27, 30, 33],\n",
       "       [36, 39, 42, 45, 48, 51, 54, 57, 60, 63, 66]])"
      ]
     },
     "execution_count": 23,
     "metadata": {},
     "output_type": "execute_result"
    }
   ],
   "source": [
    "## EXERCISE CODE HERE\n",
    "new_arr = arr.reshape(2, -1)\n",
    "new_arr\n"
   ]
  },
  {
   "cell_type": "code",
   "execution_count": 24,
   "metadata": {},
   "outputs": [
    {
     "data": {
      "text/plain": [
       "array(['d', 'e', 'f'], dtype='<U1')"
      ]
     },
     "execution_count": 24,
     "metadata": {},
     "output_type": "execute_result"
    }
   ],
   "source": [
    "newer_arr = np.array([[\"a\", \"b\", \"c\"], [\"d\", \"e\", \"f\"]])\n",
    "newer_arr[1]"
   ]
  },
  {
   "cell_type": "markdown",
   "metadata": {
    "id": "AUuFjyldSYsV"
   },
   "source": [
    "#### 2.3 Other properties of arrays\n",
    "* An ndarray is a generic multidimensional container for homogeneous data. Every array has a shape (which we discovered above), a tuple indicating the size of each dimension, and a dtype, an object describing the data type of the array\n",
    "* We can access information on these properties, and alter them, as we will run through below. Operations to reshape the data are common in Deep Learning, and some of the methods used are covered here. \n"
   ]
  },
  {
   "cell_type": "code",
   "execution_count": 25,
   "metadata": {
    "id": "DjYaanYkYM2v"
   },
   "outputs": [
    {
     "name": "stdout",
     "output_type": "stream",
     "text": [
      "a before changing an element value in place:\n",
      " [0 1 2]\n",
      "\n",
      "a after changing an element value in place:\n",
      " [5 1 2]\n"
     ]
    }
   ],
   "source": [
    "# One important thing to note is that we can change an element of the array *inplace*\n",
    "print (\"a before changing an element value in place:\\n\", a)\n",
    "\n",
    "# change the value at the first elements\n",
    "a[0] = 5                 \n",
    "\n",
    "# and show the result \n",
    "print (\"\\na after changing an element value in place:\\n\", a)"
   ]
  },
  {
   "cell_type": "code",
   "execution_count": 26,
   "metadata": {
    "id": "Bz7WHxLEUDPV"
   },
   "outputs": [
    {
     "name": "stdout",
     "output_type": "stream",
     "text": [
      "Data type of a:  int32\n"
     ]
    }
   ],
   "source": [
    "# we can access the data type of an array using '.dtype'\n",
    "print(\"Data type of a: \", a.dtype)"
   ]
  },
  {
   "cell_type": "code",
   "execution_count": 27,
   "metadata": {
    "id": "9NgJDlen4KA2"
   },
   "outputs": [
    {
     "name": "stdout",
     "output_type": "stream",
     "text": [
      "float64\n"
     ]
    },
    {
     "data": {
      "text/plain": [
       "array([5., 1., 2.])"
      ]
     },
     "execution_count": 27,
     "metadata": {},
     "output_type": "execute_result"
    }
   ],
   "source": [
    "# note that numpy automatically assigned us the data type - but we can specify it\n",
    "a_float = np.array(a, dtype=np.float64)\n",
    "\n",
    "# print the datatype\n",
    "print(a_float.dtype)\n",
    "\n",
    "# and we can see that the array has a decimal point after the number \n",
    "a_float"
   ]
  },
  {
   "cell_type": "code",
   "execution_count": 28,
   "metadata": {
    "id": "tLyzikOU4TuD"
   },
   "outputs": [
    {
     "name": "stdout",
     "output_type": "stream",
     "text": [
      "int32\n"
     ]
    },
    {
     "data": {
      "text/plain": [
       "array([5, 1, 2])"
      ]
     },
     "execution_count": 28,
     "metadata": {},
     "output_type": "execute_result"
    }
   ],
   "source": [
    "# we can explicitly convert or cast an array from one dtype to another using ndarray’s astype method\n",
    "a_int32 = a_float.astype(np.int32)\n",
    "\n",
    "# print the dtype\n",
    "print(a_int32.dtype)\n",
    "\n",
    "# we can see that the numbers have been converted back to integers \n",
    "a_int32"
   ]
  },
  {
   "cell_type": "code",
   "execution_count": 29,
   "metadata": {
    "id": "DyYiJpyE4jcK"
   },
   "outputs": [
    {
     "data": {
      "text/plain": [
       "array([ 1.25, -9.6 , 42.  ])"
      ]
     },
     "execution_count": 29,
     "metadata": {},
     "output_type": "execute_result"
    }
   ],
   "source": [
    "# Converting from strings to numbers can also be useful\n",
    "numeric_strings = np.array(['1.25', '-9.6', '42'], dtype=np.string_)\n",
    "\n",
    "# here we convert to 'float', we could also use np.float\n",
    "numeric_strings.astype(float)"
   ]
  },
  {
   "cell_type": "code",
   "execution_count": 30,
   "metadata": {
    "id": "eGmL0LMV36MX"
   },
   "outputs": [
    {
     "name": "stdout",
     "output_type": "stream",
     "text": [
      "(3, 4)\n"
     ]
    },
    {
     "data": {
      "text/plain": [
       "array([[ 1,  2],\n",
       "       [ 3,  4],\n",
       "       [ 5,  6],\n",
       "       [ 7,  8],\n",
       "       [ 9, 10],\n",
       "       [11, 12]])"
      ]
     },
     "execution_count": 30,
     "metadata": {},
     "output_type": "execute_result"
    }
   ],
   "source": [
    "# earlier we looked at the .shape attribute. Lets now look at how to reshape numpy arrays \n",
    "print(j.shape)\n",
    "\n",
    "# reshape - noting that the new shape must 'fit' the same number of values (12 in total) \n",
    "k = j.reshape(6,2)\n",
    "k"
   ]
  },
  {
   "cell_type": "code",
   "execution_count": 31,
   "metadata": {
    "id": "eC1hb5c4wwY0"
   },
   "outputs": [
    {
     "data": {
      "text/plain": [
       "(2, 750)"
      ]
     },
     "execution_count": 31,
     "metadata": {},
     "output_type": "execute_result"
    }
   ],
   "source": [
    "# passing -1 as the second parameter means numpy will infer the size of the second value\n",
    "# this is useful if you have large array \n",
    "\n",
    "l = np.arange(1500).reshape(2,-1)\n",
    "l.shape"
   ]
  },
  {
   "cell_type": "code",
   "execution_count": 32,
   "metadata": {
    "id": "O4kMKr1xxjv-"
   },
   "outputs": [],
   "source": [
    "# we can join two different arrays either vertically (axis 0) or horizontally (axis 1)\n",
    "# Create 2 arrays\n",
    "m = np.array([np.arange(0,3),np.arange(3,6), np.arange(6,9)])\n",
    "n = np.random.random((3,3))"
   ]
  },
  {
   "cell_type": "code",
   "execution_count": 33,
   "metadata": {
    "id": "NhvMJjNBzD7Y"
   },
   "outputs": [
    {
     "data": {
      "text/plain": [
       "array([[0.        , 1.        , 2.        ],\n",
       "       [3.        , 4.        , 5.        ],\n",
       "       [6.        , 7.        , 8.        ],\n",
       "       [0.03523811, 0.93822824, 0.2812882 ],\n",
       "       [0.73137722, 0.34009577, 0.55996048],\n",
       "       [0.06439274, 0.86533558, 0.63285046]])"
      ]
     },
     "execution_count": 33,
     "metadata": {},
     "output_type": "execute_result"
    }
   ],
   "source": [
    "# join - 'stack' vertically - note it takes a tuple as an argument \n",
    "o = np.vstack((m,n))\n",
    "o"
   ]
  },
  {
   "cell_type": "code",
   "execution_count": 34,
   "metadata": {
    "id": "q3VUX0oazxBm"
   },
   "outputs": [
    {
     "data": {
      "text/plain": [
       "array([[0.        , 1.        , 2.        , 0.03523811, 0.93822824,\n",
       "        0.2812882 ],\n",
       "       [3.        , 4.        , 5.        , 0.73137722, 0.34009577,\n",
       "        0.55996048],\n",
       "       [6.        , 7.        , 8.        , 0.06439274, 0.86533558,\n",
       "        0.63285046]])"
      ]
     },
     "execution_count": 34,
     "metadata": {},
     "output_type": "execute_result"
    }
   ],
   "source": [
    "# stack horizontally\n",
    "p = np.hstack((m,n))\n",
    "p"
   ]
  },
  {
   "cell_type": "code",
   "execution_count": 35,
   "metadata": {
    "id": "3DTa6PXmz9H0"
   },
   "outputs": [
    {
     "data": {
      "text/plain": [
       "array([0.        , 1.        , 2.        , 3.        , 4.        ,\n",
       "       5.        , 6.        , 7.        , 8.        , 0.03523811,\n",
       "       0.93822824, 0.2812882 , 0.73137722, 0.34009577, 0.55996048,\n",
       "       0.06439274, 0.86533558, 0.63285046])"
      ]
     },
     "execution_count": 35,
     "metadata": {},
     "output_type": "execute_result"
    }
   ],
   "source": [
    "# we can then use .ravel() or .flatten() to return 1D arrays\n",
    "q = o.ravel()\n",
    "q"
   ]
  },
  {
   "cell_type": "code",
   "execution_count": 36,
   "metadata": {
    "id": "12zseK9m0HMz"
   },
   "outputs": [
    {
     "data": {
      "text/plain": [
       "array([0.        , 1.        , 2.        , 0.03523811, 0.93822824,\n",
       "       0.2812882 , 3.        , 4.        , 5.        , 0.73137722,\n",
       "       0.34009577, 0.55996048, 6.        , 7.        , 8.        ,\n",
       "       0.06439274, 0.86533558, 0.63285046])"
      ]
     },
     "execution_count": 36,
     "metadata": {},
     "output_type": "execute_result"
    }
   ],
   "source": [
    "# flatten returns a copy of the array, ravel does not - otherwise they perform the same\n",
    "r = p.flatten()\n",
    "r"
   ]
  },
  {
   "cell_type": "markdown",
   "metadata": {
    "id": "38D2S3Lmsg8R"
   },
   "source": [
    "#### EXERCISE 2.3: Properties of Arrays\n",
    "* Create two 2D arrays\n",
    "* Reshape one or both of them \n",
    "* Stack them together\n",
    "* Convert this array to a 1D array "
   ]
  },
  {
   "cell_type": "code",
   "execution_count": 37,
   "metadata": {
    "id": "9D5cbpgTshIf"
   },
   "outputs": [
    {
     "name": "stdout",
     "output_type": "stream",
     "text": [
      "a1 = [[1 2 3]\n",
      " [4 5 6]]\n",
      "a2 = [[11 12]\n",
      " [13 14]\n",
      " [15 16]]\n",
      "a3 = [[11 12 13]\n",
      " [14 15 16]]\n",
      "a4 = [[ 1  2  3]\n",
      " [ 4  5  6]\n",
      " [11 12 13]\n",
      " [14 15 16]]\n",
      "a5 = [ 1  2  3  4  5  6 11 12 13 14 15 16]\n"
     ]
    }
   ],
   "source": [
    "## EXERCISE CODE HERE \n",
    "a1 = np.array([[1, 2, 3], [4, 5, 6]])\n",
    "print(f\"a1 = {a1}\")\n",
    "a2 = np.array([[11, 12], [13, 14], [15, 16]])\n",
    "print(f\"a2 = {a2}\")\n",
    "a3 = a2.reshape((2, -1))\n",
    "print(f\"a3 = {a3}\")\n",
    "a4 = np.vstack((a1, a3))\n",
    "print(f\"a4 = {a4}\")\n",
    "a5 = a4.flatten()\n",
    "print(f\"a5 = {a5}\")"
   ]
  },
  {
   "cell_type": "markdown",
   "metadata": {
    "id": "YeOZr6HjsUCm"
   },
   "source": [
    "### 3. Performing Operations on Arrays\n",
    "\n",
    "* We can perform a range of operations on arrays, including: \n",
    "  * Arithmetic operations between arrays\n",
    "  * Boolean operations \n",
    "  * Universal functions\n",
    "  * Mathematical and Statistical operations \n",
    "* We will cover examples of these below; these are not the only operations that can be performed but will provide you with a good toolkit for a range of operations."
   ]
  },
  {
   "cell_type": "code",
   "execution_count": 38,
   "metadata": {
    "id": "7jXNSx_X0s3i"
   },
   "outputs": [
    {
     "data": {
      "text/plain": [
       "array([ 0.        ,  2.        ,  4.        ,  3.03523811,  4.93822824,\n",
       "        5.2812882 ,  9.        , 11.        , 13.        ,  0.76661532,\n",
       "        1.27832401,  0.84124868,  6.73137722,  7.34009577,  8.55996048,\n",
       "        0.12878547,  1.73067117,  1.26570092])"
      ]
     },
     "execution_count": 38,
     "metadata": {},
     "output_type": "execute_result"
    }
   ],
   "source": [
    "# Any arithmetic operations between equal-size arrays applies the operation element-wise:\n",
    "r + q"
   ]
  },
  {
   "cell_type": "code",
   "execution_count": 39,
   "metadata": {
    "id": "Wg28jq-t43jS"
   },
   "outputs": [
    {
     "data": {
      "text/plain": [
       "array([[0.03523811, 1.93822824, 2.2812882 ],\n",
       "       [3.73137722, 4.34009577, 5.55996048],\n",
       "       [6.06439274, 7.86533558, 8.63285046]])"
      ]
     },
     "execution_count": 39,
     "metadata": {},
     "output_type": "execute_result"
    }
   ],
   "source": [
    "# we can also use universal functions (ufuncs), a function that performs element-wise operations on data in ndarrays\n",
    "np.add(m,n)"
   ]
  },
  {
   "cell_type": "code",
   "execution_count": 40,
   "metadata": {
    "id": "QFAHuQBV0uEW"
   },
   "outputs": [
    {
     "data": {
      "text/plain": [
       "array([[0.        , 0.93822824, 0.56257641],\n",
       "       [2.19413165, 1.36038309, 2.79980239],\n",
       "       [0.38635642, 6.05734908, 5.06280368]])"
      ]
     },
     "execution_count": 40,
     "metadata": {},
     "output_type": "execute_result"
    }
   ],
   "source": [
    "# the same applies to other arithmetic functions\n",
    "m * n "
   ]
  },
  {
   "cell_type": "code",
   "execution_count": 41,
   "metadata": {
    "id": "MpSgqcv96nu6"
   },
   "outputs": [
    {
     "data": {
      "text/plain": [
       "array([0.00000000e+00, 1.00000000e+00, 4.00000000e+00, 1.05714323e-01,\n",
       "       3.75291297e+00, 1.40644101e+00, 1.80000000e+01, 2.80000000e+01,\n",
       "       4.00000000e+01, 2.57723491e-02, 3.19087458e-01, 1.57510277e-01,\n",
       "       4.38826330e+00, 2.38067040e+00, 4.47968383e+00, 4.14642450e-03,\n",
       "       7.48805672e-01, 4.00499705e-01])"
      ]
     },
     "execution_count": 41,
     "metadata": {},
     "output_type": "execute_result"
    }
   ],
   "source": [
    "# with the ufunc equivalent \n",
    "np.multiply(r,q)"
   ]
  },
  {
   "cell_type": "code",
   "execution_count": 42,
   "metadata": {
    "id": "vJaNh7Bq41SO"
   },
   "outputs": [
    {
     "data": {
      "text/plain": [
       "array([0.2, 1. , 0.5])"
      ]
     },
     "execution_count": 42,
     "metadata": {},
     "output_type": "execute_result"
    }
   ],
   "source": [
    "# the same principles apply to subtraction and division \n",
    "# Arithmetic operations with scalars apply the scalar argument to each element in the array\n",
    "1 / a"
   ]
  },
  {
   "cell_type": "code",
   "execution_count": 43,
   "metadata": {
    "id": "z6ibKEdU7Js4"
   },
   "outputs": [
    {
     "data": {
      "text/plain": [
       "array([2.23606798, 1.        , 1.41421356])"
      ]
     },
     "execution_count": 43,
     "metadata": {},
     "output_type": "execute_result"
    }
   ],
   "source": [
    "# another example, raising a to the power 0.5\n",
    "a ** 0.5"
   ]
  },
  {
   "cell_type": "code",
   "execution_count": 44,
   "metadata": {
    "id": "2TqrDJc97WmY"
   },
   "outputs": [
    {
     "data": {
      "text/plain": [
       "array([148.4131591 ,   2.71828183,   7.3890561 ])"
      ]
     },
     "execution_count": 44,
     "metadata": {},
     "output_type": "execute_result"
    }
   ],
   "source": [
    "# here are a couple more examples - calculate the exponential of all array elements\n",
    "np.exp(a)"
   ]
  },
  {
   "cell_type": "code",
   "execution_count": 45,
   "metadata": {
    "id": "0YyoDhWEIo8i"
   },
   "outputs": [
    {
     "data": {
      "text/plain": [
       "array([0.        , 1.        , 1.41421356, 0.18771816, 0.96862183,\n",
       "       0.5303661 , 1.73205081, 2.        , 2.23606798, 0.85520595,\n",
       "       0.58317731, 0.74830507, 2.44948974, 2.64575131, 2.82842712,\n",
       "       0.25375724, 0.93023416, 0.79551899])"
      ]
     },
     "execution_count": 45,
     "metadata": {},
     "output_type": "execute_result"
    }
   ],
   "source": [
    "# Elementwise square root\n",
    "np.sqrt(r)"
   ]
  },
  {
   "cell_type": "code",
   "execution_count": 46,
   "metadata": {
    "id": "v_ubq_FM99rD"
   },
   "outputs": [
    {
     "data": {
      "text/plain": [
       "array([ 0.94712655,  0.24516627,  0.48227798,  1.22953349, -0.62754962,\n",
       "        0.80869782, -0.47436839,  1.27220818])"
      ]
     },
     "execution_count": 46,
     "metadata": {},
     "output_type": "execute_result"
    }
   ],
   "source": [
    "# create two arrays\n",
    "s = np.random.randn(8)\n",
    "t = np.random.randn(8)\n",
    "\n",
    "# compare the arrays \n",
    "np.maximum(s, t)"
   ]
  },
  {
   "cell_type": "code",
   "execution_count": 47,
   "metadata": {
    "id": "VAcLTILiAP7y"
   },
   "outputs": [
    {
     "data": {
      "text/plain": [
       "2.6666666666666665"
      ]
     },
     "execution_count": 47,
     "metadata": {},
     "output_type": "execute_result"
    }
   ],
   "source": [
    "# statistical methods are available, such as mean(), sum() and cumsum() - cumulative sum()\n",
    "a.mean()"
   ]
  },
  {
   "cell_type": "code",
   "execution_count": 48,
   "metadata": {
    "id": "WsmOzJMf-2yN"
   },
   "outputs": [
    {
     "data": {
      "text/plain": [
       "8"
      ]
     },
     "execution_count": 48,
     "metadata": {},
     "output_type": "execute_result"
    }
   ],
   "source": [
    "# this format also works for all the statistical methods\n",
    "np.sum(a)"
   ]
  },
  {
   "cell_type": "code",
   "execution_count": 49,
   "metadata": {
    "id": "iW9gty247Gbb"
   },
   "outputs": [
    {
     "name": "stdout",
     "output_type": "stream",
     "text": [
      "[[1 2]\n",
      " [3 4]\n",
      " [5 6]]\n",
      "Find elements of array bigger than 2\n",
      "[[False False]\n",
      " [ True  True]\n",
      " [ True  True]]\n"
     ]
    }
   ],
   "source": [
    "# we can use boolean operations to filter valies\n",
    "u = np.array([[1,2], [3, 4], [5, 6]])\n",
    "\n",
    "# print array\n",
    "print(u)\n",
    "\n",
    "# first find the elements of a that are bigger than 2\n",
    "print(\"Find elements of array bigger than 2\")\n",
    "print((u > 2))"
   ]
  },
  {
   "cell_type": "code",
   "execution_count": 50,
   "metadata": {
    "id": "mpd_wcr07kpS"
   },
   "outputs": [
    {
     "name": "stdout",
     "output_type": "stream",
     "text": [
      "Values of array elements bigger than 2\n",
      "[3 4 5 6]\n"
     ]
    }
   ],
   "source": [
    "# then use the mask to get the actual value\n",
    "print(\"Values of array elements bigger than 2\")\n",
    "print(u[u > 2])"
   ]
  },
  {
   "cell_type": "markdown",
   "metadata": {
    "id": "kLV1BiNmuyRD"
   },
   "source": [
    "#### EXERCISE: Performing Operations on Arrays\n",
    "* Create two arrays\n",
    "* Perform an operation between the two arrays\n",
    "* Apply a scalar operation to one of the arrays\n",
    "* Use boolean indexing to select a subset of one of the arrays"
   ]
  },
  {
   "cell_type": "code",
   "execution_count": 55,
   "metadata": {
    "id": "XH8LnNiHu42u"
   },
   "outputs": [
    {
     "data": {
      "text/plain": [
       "array([[1, 0, 0, 0, 0, 0, 0],\n",
       "       [0, 2, 0, 0, 0, 0, 0],\n",
       "       [0, 0, 3, 0, 0, 0, 0],\n",
       "       [0, 0, 0, 4, 0, 0, 0],\n",
       "       [0, 0, 0, 0, 5, 0, 0],\n",
       "       [0, 0, 0, 0, 0, 6, 0],\n",
       "       [0, 0, 0, 0, 0, 0, 7]])"
      ]
     },
     "execution_count": 55,
     "metadata": {},
     "output_type": "execute_result"
    }
   ],
   "source": [
    "## EXERCISE CODE GOES HERE \n",
    "arr1 = np.arange(1,8, dtype=int)\n",
    "#arr2 = np.random.randn(8)\n",
    "arr2 = np.eye(7, 7, dtype=int)\n",
    "arr3 = np.multiply(arr1, arr2)\n",
    "arr3"
   ]
  },
  {
   "cell_type": "code",
   "execution_count": 56,
   "metadata": {},
   "outputs": [
    {
     "data": {
      "text/plain": [
       "28"
      ]
     },
     "execution_count": 56,
     "metadata": {},
     "output_type": "execute_result"
    }
   ],
   "source": [
    "np.sum(arr3)"
   ]
  },
  {
   "cell_type": "code",
   "execution_count": 57,
   "metadata": {},
   "outputs": [
    {
     "data": {
      "text/plain": [
       "array([4, 5, 6, 7])"
      ]
     },
     "execution_count": 57,
     "metadata": {},
     "output_type": "execute_result"
    }
   ],
   "source": [
    "arr3[arr3 > 3]"
   ]
  },
  {
   "cell_type": "code",
   "execution_count": 58,
   "metadata": {},
   "outputs": [
    {
     "data": {
      "text/plain": [
       "array([[False, False, False, False, False, False, False],\n",
       "       [False, False, False, False, False, False, False],\n",
       "       [False, False, False, False, False, False, False],\n",
       "       [False, False, False,  True, False, False, False],\n",
       "       [False, False, False, False,  True, False, False],\n",
       "       [False, False, False, False, False,  True, False],\n",
       "       [False, False, False, False, False, False,  True]])"
      ]
     },
     "execution_count": 58,
     "metadata": {},
     "output_type": "execute_result"
    }
   ],
   "source": [
    "(arr3 > 3)"
   ]
  },
  {
   "cell_type": "markdown",
   "metadata": {
    "id": "rX3PrnWBs411"
   },
   "source": [
    "### Review and Further Reading\n",
    "* We now have a good background in numpy, in particular what the library is and the benefit of vectorized operations over the approach taken by python on its own; how to create and locate values in arrays; how to perform operations on arrays; and how to broadcast between different numpy arrays.\n",
    "* There is of course much more to learn. We would suggest looking next at:\n",
    "  * `fancy indexing`\n",
    "  * `Broadcasting` \n",
    "  * Exploring `ufuncs`, mathematical and statistical operations in greater detail\n",
    "  * Array-Oriented Programming with Arrays\n",
    "  * Expressing Conditional Logic as Array Operations\n",
    "  * Linear Algebra\n",
    "\n",
    "\n",
    "\n",
    "* Here are some follow-up resources:\n",
    "  * http://cs231n.github.io/python-numpy-tutorial/\n",
    "  * the books linked to at the start of the tutorial\n",
    "\n"
   ]
  }
 ],
 "metadata": {
  "colab": {
   "collapsed_sections": [],
   "name": "Oxford_Numpy.ipynb",
   "provenance": []
  },
  "kernelspec": {
   "display_name": "Python 3",
   "language": "python",
   "name": "python3"
  },
  "language_info": {
   "codemirror_mode": {
    "name": "ipython",
    "version": 3
   },
   "file_extension": ".py",
   "mimetype": "text/x-python",
   "name": "python",
   "nbconvert_exporter": "python",
   "pygments_lexer": "ipython3",
   "version": "3.6.9"
  }
 },
 "nbformat": 4,
 "nbformat_minor": 1
}
